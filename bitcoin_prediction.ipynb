{
 "cells": [
  {
   "cell_type": "code",
   "execution_count": 1,
   "metadata": {},
   "outputs": [
    {
     "name": "stdout",
     "output_type": "stream",
     "text": [
      "datetime64[ns]\n",
      "0\n",
      "2021-02-05 10:52:04 2021-03-12 23:59:14\n"
     ]
    }
   ],
   "source": [
    "import pandas as pd\n",
    "\n",
    "# Load tweets\n",
    "df = pd.read_csv(\"datasets/Bitcoin_tweets.csv\", parse_dates=['date'])\n",
    "\n",
    "df['date'] = pd.to_datetime(df['date'], errors='coerce')\n",
    "print(df['date'].dtype)  # should be datetime64[ns]\n",
    "\n",
    "print(df['date'].isna().sum())\n",
    "print(df['date'].min(), df['date'].max())"
   ]
  },
  {
   "cell_type": "code",
   "execution_count": 2,
   "metadata": {},
   "outputs": [
    {
     "data": {
      "text/html": [
       "<div>\n",
       "<style scoped>\n",
       "    .dataframe tbody tr th:only-of-type {\n",
       "        vertical-align: middle;\n",
       "    }\n",
       "\n",
       "    .dataframe tbody tr th {\n",
       "        vertical-align: top;\n",
       "    }\n",
       "\n",
       "    .dataframe thead th {\n",
       "        text-align: right;\n",
       "    }\n",
       "</style>\n",
       "<table border=\"1\" class=\"dataframe\">\n",
       "  <thead>\n",
       "    <tr style=\"text-align: right;\">\n",
       "      <th></th>\n",
       "      <th>user_created</th>\n",
       "      <th>user_followers</th>\n",
       "      <th>date</th>\n",
       "      <th>text</th>\n",
       "    </tr>\n",
       "  </thead>\n",
       "  <tbody>\n",
       "    <tr>\n",
       "      <th>0</th>\n",
       "      <td>2009-04-26 20:05:09</td>\n",
       "      <td>8534</td>\n",
       "      <td>2021-02-10 23:59:04</td>\n",
       "      <td>Blue Ridge Bank shares halted by NYSE after #b...</td>\n",
       "    </tr>\n",
       "    <tr>\n",
       "      <th>1</th>\n",
       "      <td>2019-10-17 20:12:10</td>\n",
       "      <td>6769</td>\n",
       "      <td>2021-02-10 23:58:48</td>\n",
       "      <td>😎 Today, that's this #Thursday, we will do a \"...</td>\n",
       "    </tr>\n",
       "    <tr>\n",
       "      <th>4</th>\n",
       "      <td>2016-02-03 13:15:55</td>\n",
       "      <td>1249</td>\n",
       "      <td>2021-02-10 23:54:06</td>\n",
       "      <td>This network is secured by 9 508 nodes as of t...</td>\n",
       "    </tr>\n",
       "    <tr>\n",
       "      <th>7</th>\n",
       "      <td>2018-08-03 21:30:08</td>\n",
       "      <td>4052</td>\n",
       "      <td>2021-02-10 23:52:42</td>\n",
       "      <td>🔄 Prices update in $EUR (1 hour):\\n\\n$BTC   - ...</td>\n",
       "    </tr>\n",
       "    <tr>\n",
       "      <th>9</th>\n",
       "      <td>2009-04-26 20:05:09</td>\n",
       "      <td>8534</td>\n",
       "      <td>2021-02-10 23:52:08</td>\n",
       "      <td>.@Tesla’s #bitcoin investment is revolutionary...</td>\n",
       "    </tr>\n",
       "    <tr>\n",
       "      <th>...</th>\n",
       "      <td>...</td>\n",
       "      <td>...</td>\n",
       "      <td>...</td>\n",
       "      <td>...</td>\n",
       "    </tr>\n",
       "    <tr>\n",
       "      <th>48559</th>\n",
       "      <td>2018-05-25 21:11:08</td>\n",
       "      <td>3255</td>\n",
       "      <td>2021-03-11 22:38:25</td>\n",
       "      <td>🔄 Prices update in $USD (1 hour):\\n\\n$BTC - 57...</td>\n",
       "    </tr>\n",
       "    <tr>\n",
       "      <th>48566</th>\n",
       "      <td>2017-01-01 03:36:19</td>\n",
       "      <td>1891</td>\n",
       "      <td>2021-03-11 22:35:29</td>\n",
       "      <td>#Bitcoin reversed yesterday's weakness to fini...</td>\n",
       "    </tr>\n",
       "    <tr>\n",
       "      <th>48571</th>\n",
       "      <td>2018-05-13 04:06:51</td>\n",
       "      <td>2415</td>\n",
       "      <td>2021-03-11 22:32:42</td>\n",
       "      <td>Goldman Sachs Evaluates #Bitcoin as Client Dem...</td>\n",
       "    </tr>\n",
       "    <tr>\n",
       "      <th>48575</th>\n",
       "      <td>2012-11-03 22:31:45</td>\n",
       "      <td>12014</td>\n",
       "      <td>2021-03-11 22:31:36</td>\n",
       "      <td>#Bitcoin Big Double pay again!!! Once it hit $...</td>\n",
       "    </tr>\n",
       "    <tr>\n",
       "      <th>48578</th>\n",
       "      <td>2010-03-15 03:38:08</td>\n",
       "      <td>2787</td>\n",
       "      <td>2021-03-11 22:30:23</td>\n",
       "      <td>Bill Gates advised against investing in #Bitco...</td>\n",
       "    </tr>\n",
       "  </tbody>\n",
       "</table>\n",
       "<p>18014 rows × 4 columns</p>\n",
       "</div>"
      ],
      "text/plain": [
       "              user_created  user_followers                date  \\\n",
       "0      2009-04-26 20:05:09            8534 2021-02-10 23:59:04   \n",
       "1      2019-10-17 20:12:10            6769 2021-02-10 23:58:48   \n",
       "4      2016-02-03 13:15:55            1249 2021-02-10 23:54:06   \n",
       "7      2018-08-03 21:30:08            4052 2021-02-10 23:52:42   \n",
       "9      2009-04-26 20:05:09            8534 2021-02-10 23:52:08   \n",
       "...                    ...             ...                 ...   \n",
       "48559  2018-05-25 21:11:08            3255 2021-03-11 22:38:25   \n",
       "48566  2017-01-01 03:36:19            1891 2021-03-11 22:35:29   \n",
       "48571  2018-05-13 04:06:51            2415 2021-03-11 22:32:42   \n",
       "48575  2012-11-03 22:31:45           12014 2021-03-11 22:31:36   \n",
       "48578  2010-03-15 03:38:08            2787 2021-03-11 22:30:23   \n",
       "\n",
       "                                                    text  \n",
       "0      Blue Ridge Bank shares halted by NYSE after #b...  \n",
       "1      😎 Today, that's this #Thursday, we will do a \"...  \n",
       "4      This network is secured by 9 508 nodes as of t...  \n",
       "7      🔄 Prices update in $EUR (1 hour):\\n\\n$BTC   - ...  \n",
       "9      .@Tesla’s #bitcoin investment is revolutionary...  \n",
       "...                                                  ...  \n",
       "48559  🔄 Prices update in $USD (1 hour):\\n\\n$BTC - 57...  \n",
       "48566  #Bitcoin reversed yesterday's weakness to fini...  \n",
       "48571  Goldman Sachs Evaluates #Bitcoin as Client Dem...  \n",
       "48575  #Bitcoin Big Double pay again!!! Once it hit $...  \n",
       "48578  Bill Gates advised against investing in #Bitco...  \n",
       "\n",
       "[18014 rows x 4 columns]"
      ]
     },
     "execution_count": 2,
     "metadata": {},
     "output_type": "execute_result"
    }
   ],
   "source": [
    "# Keep only the specified columns if they exist in the dataframe\n",
    "df_filtered = df.copy()      \n",
    "columns_to_keep = ['user_created', 'user_followers', 'date', 'text']\n",
    "df_filtered = df_filtered[columns_to_keep]\n",
    "filters = {\n",
    "    'user_created': lambda df: df['user_created'] < df['date'] - pd.Timedelta(days=30),\n",
    "    'user_followers': lambda df: df['user_followers'] > 1000\n",
    "}\n",
    "\n",
    "# Apply filters\n",
    "for col, condition in filters.items():\n",
    "    df_filtered = df_filtered[condition(df_filtered)]\n",
    "    \n",
    "df.to_csv(\"datasets/filtered_tweets.csv\", index=False)\n",
    "df_filtered"
   ]
  },
  {
   "cell_type": "code",
   "execution_count": 3,
   "metadata": {},
   "outputs": [
    {
     "data": {
      "text/html": [
       "<div>\n",
       "<style scoped>\n",
       "    .dataframe tbody tr th:only-of-type {\n",
       "        vertical-align: middle;\n",
       "    }\n",
       "\n",
       "    .dataframe tbody tr th {\n",
       "        vertical-align: top;\n",
       "    }\n",
       "\n",
       "    .dataframe thead th {\n",
       "        text-align: right;\n",
       "    }\n",
       "</style>\n",
       "<table border=\"1\" class=\"dataframe\">\n",
       "  <thead>\n",
       "    <tr style=\"text-align: right;\">\n",
       "      <th></th>\n",
       "      <th>user_created</th>\n",
       "      <th>user_followers</th>\n",
       "      <th>date</th>\n",
       "      <th>clean_text</th>\n",
       "    </tr>\n",
       "  </thead>\n",
       "  <tbody>\n",
       "    <tr>\n",
       "      <th>0</th>\n",
       "      <td>2009-04-26 20:05:09</td>\n",
       "      <td>8534</td>\n",
       "      <td>2021-02-10 23:59:04</td>\n",
       "      <td>Blue Ridge Bank shares halted by NYSE after bi...</td>\n",
       "    </tr>\n",
       "    <tr>\n",
       "      <th>1</th>\n",
       "      <td>2019-10-17 20:12:10</td>\n",
       "      <td>6769</td>\n",
       "      <td>2021-02-10 23:58:48</td>\n",
       "      <td>😎 Today, that's this Thursday, we will do a \"🎬...</td>\n",
       "    </tr>\n",
       "    <tr>\n",
       "      <th>4</th>\n",
       "      <td>2016-02-03 13:15:55</td>\n",
       "      <td>1249</td>\n",
       "      <td>2021-02-10 23:54:06</td>\n",
       "      <td>This network is secured by 9 508 nodes as of t...</td>\n",
       "    </tr>\n",
       "    <tr>\n",
       "      <th>7</th>\n",
       "      <td>2018-08-03 21:30:08</td>\n",
       "      <td>4052</td>\n",
       "      <td>2021-02-10 23:52:42</td>\n",
       "      <td>🔄 Prices update in $EUR (1 hour): $BTC - 37082...</td>\n",
       "    </tr>\n",
       "    <tr>\n",
       "      <th>9</th>\n",
       "      <td>2009-04-26 20:05:09</td>\n",
       "      <td>8534</td>\n",
       "      <td>2021-02-10 23:52:08</td>\n",
       "      <td>.’s bitcoin investment is revolutionary for cr...</td>\n",
       "    </tr>\n",
       "    <tr>\n",
       "      <th>...</th>\n",
       "      <td>...</td>\n",
       "      <td>...</td>\n",
       "      <td>...</td>\n",
       "      <td>...</td>\n",
       "    </tr>\n",
       "    <tr>\n",
       "      <th>48559</th>\n",
       "      <td>2018-05-25 21:11:08</td>\n",
       "      <td>3255</td>\n",
       "      <td>2021-03-11 22:38:25</td>\n",
       "      <td>🔄 Prices update in $USD (1 hour): $BTC - 57800...</td>\n",
       "    </tr>\n",
       "    <tr>\n",
       "      <th>48566</th>\n",
       "      <td>2017-01-01 03:36:19</td>\n",
       "      <td>1891</td>\n",
       "      <td>2021-03-11 22:35:29</td>\n",
       "      <td>Bitcoin reversed yesterday's weakness to finis...</td>\n",
       "    </tr>\n",
       "    <tr>\n",
       "      <th>48571</th>\n",
       "      <td>2018-05-13 04:06:51</td>\n",
       "      <td>2415</td>\n",
       "      <td>2021-03-11 22:32:42</td>\n",
       "      <td>Goldman Sachs Evaluates Bitcoin as Client Dema...</td>\n",
       "    </tr>\n",
       "    <tr>\n",
       "      <th>48575</th>\n",
       "      <td>2012-11-03 22:31:45</td>\n",
       "      <td>12014</td>\n",
       "      <td>2021-03-11 22:31:36</td>\n",
       "      <td>Bitcoin Big Double pay again!!! Once it hit $5...</td>\n",
       "    </tr>\n",
       "    <tr>\n",
       "      <th>48578</th>\n",
       "      <td>2010-03-15 03:38:08</td>\n",
       "      <td>2787</td>\n",
       "      <td>2021-03-11 22:30:23</td>\n",
       "      <td>Bill Gates advised against investing in Bitcoi...</td>\n",
       "    </tr>\n",
       "  </tbody>\n",
       "</table>\n",
       "<p>18014 rows × 4 columns</p>\n",
       "</div>"
      ],
      "text/plain": [
       "              user_created  user_followers                date  \\\n",
       "0      2009-04-26 20:05:09            8534 2021-02-10 23:59:04   \n",
       "1      2019-10-17 20:12:10            6769 2021-02-10 23:58:48   \n",
       "4      2016-02-03 13:15:55            1249 2021-02-10 23:54:06   \n",
       "7      2018-08-03 21:30:08            4052 2021-02-10 23:52:42   \n",
       "9      2009-04-26 20:05:09            8534 2021-02-10 23:52:08   \n",
       "...                    ...             ...                 ...   \n",
       "48559  2018-05-25 21:11:08            3255 2021-03-11 22:38:25   \n",
       "48566  2017-01-01 03:36:19            1891 2021-03-11 22:35:29   \n",
       "48571  2018-05-13 04:06:51            2415 2021-03-11 22:32:42   \n",
       "48575  2012-11-03 22:31:45           12014 2021-03-11 22:31:36   \n",
       "48578  2010-03-15 03:38:08            2787 2021-03-11 22:30:23   \n",
       "\n",
       "                                              clean_text  \n",
       "0      Blue Ridge Bank shares halted by NYSE after bi...  \n",
       "1      😎 Today, that's this Thursday, we will do a \"🎬...  \n",
       "4      This network is secured by 9 508 nodes as of t...  \n",
       "7      🔄 Prices update in $EUR (1 hour): $BTC - 37082...  \n",
       "9      .’s bitcoin investment is revolutionary for cr...  \n",
       "...                                                  ...  \n",
       "48559  🔄 Prices update in $USD (1 hour): $BTC - 57800...  \n",
       "48566  Bitcoin reversed yesterday's weakness to finis...  \n",
       "48571  Goldman Sachs Evaluates Bitcoin as Client Dema...  \n",
       "48575  Bitcoin Big Double pay again!!! Once it hit $5...  \n",
       "48578  Bill Gates advised against investing in Bitcoi...  \n",
       "\n",
       "[18014 rows x 4 columns]"
      ]
     },
     "execution_count": 3,
     "metadata": {},
     "output_type": "execute_result"
    }
   ],
   "source": [
    "import re\n",
    "df_clean = df_filtered.copy()\n",
    "\n",
    "def clean_tweet(text):\n",
    "    text = re.sub(r\"http\\S+\", \"\", text)  # remove URLs\n",
    "    text = re.sub(r\"@\\w+\", \"\", text)     # remove mentions\n",
    "    text = re.sub(r\"#\", \"\", text)        # remove hashtag symbol\n",
    "    text = re.sub(r\"\\s+\", \" \", text).strip()  # remove extra spaces\n",
    "    return text\n",
    "\n",
    "df_clean['clean_text'] = df_clean['text'].astype(str).apply(clean_tweet)\n",
    "df_clean.drop(columns=['text'], inplace=True)  # drop original text column\n",
    "df_clean.to_csv(\"datasets/cleaned_tweets.csv\", index=False)\n",
    "df_clean"
   ]
  },
  {
   "cell_type": "code",
   "execution_count": 4,
   "metadata": {},
   "outputs": [
    {
     "name": "stderr",
     "output_type": "stream",
     "text": [
      "c:\\Users\\shefs\\AppData\\Local\\Programs\\Python\\Python312\\Lib\\site-packages\\tqdm\\auto.py:21: TqdmWarning: IProgress not found. Please update jupyter and ipywidgets. See https://ipywidgets.readthedocs.io/en/stable/user_install.html\n",
      "  from .autonotebook import tqdm as notebook_tqdm\n",
      "Device set to use cpu\n"
     ]
    }
   ],
   "source": [
    "from transformers import AutoTokenizer, AutoModelForSequenceClassification\n",
    "from transformers import pipeline\n",
    "\n",
    "# Load FinBERT\n",
    "model = AutoModelForSequenceClassification.from_pretrained(\"yiyanghkust/finbert-tone\")\n",
    "tokenizer = AutoTokenizer.from_pretrained(\"yiyanghkust/finbert-tone\")\n",
    "finbert = pipeline(\"sentiment-analysis\", model=model, tokenizer=tokenizer)\n",
    "\n",
    "# Run on a sample\n",
    "df_clean['sentiment'] = df_clean['clean_text'].apply(lambda x: finbert(x[:512])[0]['label'])  # truncate to 512 tokens"
   ]
  },
  {
   "cell_type": "code",
   "execution_count": 5,
   "metadata": {},
   "outputs": [
    {
     "data": {
      "text/html": [
       "<div>\n",
       "<style scoped>\n",
       "    .dataframe tbody tr th:only-of-type {\n",
       "        vertical-align: middle;\n",
       "    }\n",
       "\n",
       "    .dataframe tbody tr th {\n",
       "        vertical-align: top;\n",
       "    }\n",
       "\n",
       "    .dataframe thead th {\n",
       "        text-align: right;\n",
       "    }\n",
       "</style>\n",
       "<table border=\"1\" class=\"dataframe\">\n",
       "  <thead>\n",
       "    <tr style=\"text-align: right;\">\n",
       "      <th></th>\n",
       "      <th>user_created</th>\n",
       "      <th>user_followers</th>\n",
       "      <th>date</th>\n",
       "      <th>clean_text</th>\n",
       "      <th>sentiment</th>\n",
       "    </tr>\n",
       "  </thead>\n",
       "  <tbody>\n",
       "    <tr>\n",
       "      <th>0</th>\n",
       "      <td>2009-04-26 20:05:09</td>\n",
       "      <td>8534</td>\n",
       "      <td>2021-02-10 23:59:04</td>\n",
       "      <td>Blue Ridge Bank shares halted by NYSE after bi...</td>\n",
       "      <td>Negative</td>\n",
       "    </tr>\n",
       "    <tr>\n",
       "      <th>1</th>\n",
       "      <td>2019-10-17 20:12:10</td>\n",
       "      <td>6769</td>\n",
       "      <td>2021-02-10 23:58:48</td>\n",
       "      <td>😎 Today, that's this Thursday, we will do a \"🎬...</td>\n",
       "      <td>Neutral</td>\n",
       "    </tr>\n",
       "    <tr>\n",
       "      <th>4</th>\n",
       "      <td>2016-02-03 13:15:55</td>\n",
       "      <td>1249</td>\n",
       "      <td>2021-02-10 23:54:06</td>\n",
       "      <td>This network is secured by 9 508 nodes as of t...</td>\n",
       "      <td>Negative</td>\n",
       "    </tr>\n",
       "    <tr>\n",
       "      <th>7</th>\n",
       "      <td>2018-08-03 21:30:08</td>\n",
       "      <td>4052</td>\n",
       "      <td>2021-02-10 23:52:42</td>\n",
       "      <td>🔄 Prices update in $EUR (1 hour): $BTC - 37082...</td>\n",
       "      <td>Neutral</td>\n",
       "    </tr>\n",
       "    <tr>\n",
       "      <th>9</th>\n",
       "      <td>2009-04-26 20:05:09</td>\n",
       "      <td>8534</td>\n",
       "      <td>2021-02-10 23:52:08</td>\n",
       "      <td>.’s bitcoin investment is revolutionary for cr...</td>\n",
       "      <td>Neutral</td>\n",
       "    </tr>\n",
       "    <tr>\n",
       "      <th>...</th>\n",
       "      <td>...</td>\n",
       "      <td>...</td>\n",
       "      <td>...</td>\n",
       "      <td>...</td>\n",
       "      <td>...</td>\n",
       "    </tr>\n",
       "    <tr>\n",
       "      <th>48559</th>\n",
       "      <td>2018-05-25 21:11:08</td>\n",
       "      <td>3255</td>\n",
       "      <td>2021-03-11 22:38:25</td>\n",
       "      <td>🔄 Prices update in $USD (1 hour): $BTC - 57800...</td>\n",
       "      <td>Neutral</td>\n",
       "    </tr>\n",
       "    <tr>\n",
       "      <th>48566</th>\n",
       "      <td>2017-01-01 03:36:19</td>\n",
       "      <td>1891</td>\n",
       "      <td>2021-03-11 22:35:29</td>\n",
       "      <td>Bitcoin reversed yesterday's weakness to finis...</td>\n",
       "      <td>Positive</td>\n",
       "    </tr>\n",
       "    <tr>\n",
       "      <th>48571</th>\n",
       "      <td>2018-05-13 04:06:51</td>\n",
       "      <td>2415</td>\n",
       "      <td>2021-03-11 22:32:42</td>\n",
       "      <td>Goldman Sachs Evaluates Bitcoin as Client Dema...</td>\n",
       "      <td>Positive</td>\n",
       "    </tr>\n",
       "    <tr>\n",
       "      <th>48575</th>\n",
       "      <td>2012-11-03 22:31:45</td>\n",
       "      <td>12014</td>\n",
       "      <td>2021-03-11 22:31:36</td>\n",
       "      <td>Bitcoin Big Double pay again!!! Once it hit $5...</td>\n",
       "      <td>Positive</td>\n",
       "    </tr>\n",
       "    <tr>\n",
       "      <th>48578</th>\n",
       "      <td>2010-03-15 03:38:08</td>\n",
       "      <td>2787</td>\n",
       "      <td>2021-03-11 22:30:23</td>\n",
       "      <td>Bill Gates advised against investing in Bitcoi...</td>\n",
       "      <td>Negative</td>\n",
       "    </tr>\n",
       "  </tbody>\n",
       "</table>\n",
       "<p>18014 rows × 5 columns</p>\n",
       "</div>"
      ],
      "text/plain": [
       "              user_created  user_followers                date  \\\n",
       "0      2009-04-26 20:05:09            8534 2021-02-10 23:59:04   \n",
       "1      2019-10-17 20:12:10            6769 2021-02-10 23:58:48   \n",
       "4      2016-02-03 13:15:55            1249 2021-02-10 23:54:06   \n",
       "7      2018-08-03 21:30:08            4052 2021-02-10 23:52:42   \n",
       "9      2009-04-26 20:05:09            8534 2021-02-10 23:52:08   \n",
       "...                    ...             ...                 ...   \n",
       "48559  2018-05-25 21:11:08            3255 2021-03-11 22:38:25   \n",
       "48566  2017-01-01 03:36:19            1891 2021-03-11 22:35:29   \n",
       "48571  2018-05-13 04:06:51            2415 2021-03-11 22:32:42   \n",
       "48575  2012-11-03 22:31:45           12014 2021-03-11 22:31:36   \n",
       "48578  2010-03-15 03:38:08            2787 2021-03-11 22:30:23   \n",
       "\n",
       "                                              clean_text sentiment  \n",
       "0      Blue Ridge Bank shares halted by NYSE after bi...  Negative  \n",
       "1      😎 Today, that's this Thursday, we will do a \"🎬...   Neutral  \n",
       "4      This network is secured by 9 508 nodes as of t...  Negative  \n",
       "7      🔄 Prices update in $EUR (1 hour): $BTC - 37082...   Neutral  \n",
       "9      .’s bitcoin investment is revolutionary for cr...   Neutral  \n",
       "...                                                  ...       ...  \n",
       "48559  🔄 Prices update in $USD (1 hour): $BTC - 57800...   Neutral  \n",
       "48566  Bitcoin reversed yesterday's weakness to finis...  Positive  \n",
       "48571  Goldman Sachs Evaluates Bitcoin as Client Dema...  Positive  \n",
       "48575  Bitcoin Big Double pay again!!! Once it hit $5...  Positive  \n",
       "48578  Bill Gates advised against investing in Bitcoi...  Negative  \n",
       "\n",
       "[18014 rows x 5 columns]"
      ]
     },
     "execution_count": 5,
     "metadata": {},
     "output_type": "execute_result"
    }
   ],
   "source": [
    "df_sentiment = df_clean.copy()\n",
    "df_sentiment.to_csv(\"datasets/sentiment_tweets.csv\", index=False)\n",
    "df_sentiment"
   ]
  },
  {
   "cell_type": "code",
   "execution_count": 17,
   "metadata": {},
   "outputs": [
    {
     "data": {
      "text/html": [
       "<div>\n",
       "<style scoped>\n",
       "    .dataframe tbody tr th:only-of-type {\n",
       "        vertical-align: middle;\n",
       "    }\n",
       "\n",
       "    .dataframe tbody tr th {\n",
       "        vertical-align: top;\n",
       "    }\n",
       "\n",
       "    .dataframe thead th {\n",
       "        text-align: right;\n",
       "    }\n",
       "</style>\n",
       "<table border=\"1\" class=\"dataframe\">\n",
       "  <thead>\n",
       "    <tr style=\"text-align: right;\">\n",
       "      <th></th>\n",
       "      <th>date</th>\n",
       "      <th>avg_sentiment</th>\n",
       "    </tr>\n",
       "  </thead>\n",
       "  <tbody>\n",
       "    <tr>\n",
       "      <th>0</th>\n",
       "      <td>2021-02-05</td>\n",
       "      <td>0.072808</td>\n",
       "    </tr>\n",
       "    <tr>\n",
       "      <th>1</th>\n",
       "      <td>2021-02-06</td>\n",
       "      <td>0.081210</td>\n",
       "    </tr>\n",
       "    <tr>\n",
       "      <th>2</th>\n",
       "      <td>2021-02-07</td>\n",
       "      <td>0.084731</td>\n",
       "    </tr>\n",
       "    <tr>\n",
       "      <th>3</th>\n",
       "      <td>2021-02-08</td>\n",
       "      <td>0.098643</td>\n",
       "    </tr>\n",
       "    <tr>\n",
       "      <th>4</th>\n",
       "      <td>2021-02-09</td>\n",
       "      <td>0.110154</td>\n",
       "    </tr>\n",
       "    <tr>\n",
       "      <th>5</th>\n",
       "      <td>2021-02-10</td>\n",
       "      <td>0.088905</td>\n",
       "    </tr>\n",
       "    <tr>\n",
       "      <th>6</th>\n",
       "      <td>2021-02-13</td>\n",
       "      <td>0.059687</td>\n",
       "    </tr>\n",
       "    <tr>\n",
       "      <th>7</th>\n",
       "      <td>2021-02-14</td>\n",
       "      <td>0.129588</td>\n",
       "    </tr>\n",
       "    <tr>\n",
       "      <th>8</th>\n",
       "      <td>2021-02-15</td>\n",
       "      <td>0.163900</td>\n",
       "    </tr>\n",
       "    <tr>\n",
       "      <th>9</th>\n",
       "      <td>2021-02-18</td>\n",
       "      <td>0.107724</td>\n",
       "    </tr>\n",
       "    <tr>\n",
       "      <th>10</th>\n",
       "      <td>2021-02-19</td>\n",
       "      <td>0.102594</td>\n",
       "    </tr>\n",
       "    <tr>\n",
       "      <th>11</th>\n",
       "      <td>2021-02-22</td>\n",
       "      <td>0.055841</td>\n",
       "    </tr>\n",
       "    <tr>\n",
       "      <th>12</th>\n",
       "      <td>2021-02-28</td>\n",
       "      <td>0.055000</td>\n",
       "    </tr>\n",
       "    <tr>\n",
       "      <th>13</th>\n",
       "      <td>2021-03-11</td>\n",
       "      <td>0.142857</td>\n",
       "    </tr>\n",
       "    <tr>\n",
       "      <th>14</th>\n",
       "      <td>2021-03-12</td>\n",
       "      <td>0.066116</td>\n",
       "    </tr>\n",
       "  </tbody>\n",
       "</table>\n",
       "</div>"
      ],
      "text/plain": [
       "         date  avg_sentiment\n",
       "0  2021-02-05       0.072808\n",
       "1  2021-02-06       0.081210\n",
       "2  2021-02-07       0.084731\n",
       "3  2021-02-08       0.098643\n",
       "4  2021-02-09       0.110154\n",
       "5  2021-02-10       0.088905\n",
       "6  2021-02-13       0.059687\n",
       "7  2021-02-14       0.129588\n",
       "8  2021-02-15       0.163900\n",
       "9  2021-02-18       0.107724\n",
       "10 2021-02-19       0.102594\n",
       "11 2021-02-22       0.055841\n",
       "12 2021-02-28       0.055000\n",
       "13 2021-03-11       0.142857\n",
       "14 2021-03-12       0.066116"
      ]
     },
     "execution_count": 17,
     "metadata": {},
     "output_type": "execute_result"
    }
   ],
   "source": [
    "df_sentiment = pd.read_csv(\"datasets/sentiment_tweets.csv\", parse_dates=['date'])\n",
    "sentiment_score = {'Positive': 1, 'Neutral': 0, 'Negative': -1}\n",
    "df_sentiment['sentiment_score'] = df_sentiment['sentiment'].map(sentiment_score)\n",
    "\n",
    "# Aggregate sentiment per day\n",
    "daily_sentiment = df_sentiment.groupby(df_sentiment['date'].dt.floor('d'))['sentiment_score'].mean().reset_index()\n",
    "daily_sentiment.columns = ['date', 'avg_sentiment']\n",
    "\n",
    "daily_sentiment"
   ]
  },
  {
   "cell_type": "code",
   "execution_count": 47,
   "metadata": {},
   "outputs": [
    {
     "name": "stderr",
     "output_type": "stream",
     "text": [
      "[*********************100%***********************]  1 of 1 completed\n"
     ]
    }
   ],
   "source": [
    "import yfinance as yf\n",
    "\n",
    "# Load BTC data from yfinance\n",
    "btc = yf.download(\"BTC-USD\", start=\"2021-02-05\", end=\"2021-03-12\")\n",
    "btc = btc[['Open', 'Close']].reset_index()\n",
    "btc.columns = ['date', 'btc_open', 'btc_close']\n",
    "# Merge sentiment with price\n",
    "btc['date'] = pd.to_datetime(btc['date'])  # Convert 'date' column to datetime\n",
    "merged = pd.merge(daily_sentiment, btc, on='date', how='inner')\n",
    "\n",
    "# Calculate daily return\n",
    "merged['btc_return'] = merged['btc_close'].pct_change()"
   ]
  },
  {
   "cell_type": "code",
   "execution_count": 48,
   "metadata": {},
   "outputs": [
    {
     "data": {
      "text/html": [
       "<div>\n",
       "<style scoped>\n",
       "    .dataframe tbody tr th:only-of-type {\n",
       "        vertical-align: middle;\n",
       "    }\n",
       "\n",
       "    .dataframe tbody tr th {\n",
       "        vertical-align: top;\n",
       "    }\n",
       "\n",
       "    .dataframe thead th {\n",
       "        text-align: right;\n",
       "    }\n",
       "</style>\n",
       "<table border=\"1\" class=\"dataframe\">\n",
       "  <thead>\n",
       "    <tr style=\"text-align: right;\">\n",
       "      <th></th>\n",
       "      <th>date</th>\n",
       "      <th>avg_sentiment</th>\n",
       "      <th>btc_open</th>\n",
       "      <th>btc_close</th>\n",
       "      <th>btc_return</th>\n",
       "    </tr>\n",
       "  </thead>\n",
       "  <tbody>\n",
       "    <tr>\n",
       "      <th>0</th>\n",
       "      <td>2021-02-05</td>\n",
       "      <td>0.072808</td>\n",
       "      <td>36931.546875</td>\n",
       "      <td>38144.308594</td>\n",
       "      <td>NaN</td>\n",
       "    </tr>\n",
       "    <tr>\n",
       "      <th>1</th>\n",
       "      <td>2021-02-06</td>\n",
       "      <td>0.081210</td>\n",
       "      <td>38138.386719</td>\n",
       "      <td>39266.011719</td>\n",
       "      <td>0.029407</td>\n",
       "    </tr>\n",
       "    <tr>\n",
       "      <th>2</th>\n",
       "      <td>2021-02-07</td>\n",
       "      <td>0.084731</td>\n",
       "      <td>39250.191406</td>\n",
       "      <td>38903.441406</td>\n",
       "      <td>-0.009234</td>\n",
       "    </tr>\n",
       "    <tr>\n",
       "      <th>3</th>\n",
       "      <td>2021-02-08</td>\n",
       "      <td>0.098643</td>\n",
       "      <td>38886.828125</td>\n",
       "      <td>46196.464844</td>\n",
       "      <td>0.187465</td>\n",
       "    </tr>\n",
       "    <tr>\n",
       "      <th>4</th>\n",
       "      <td>2021-02-09</td>\n",
       "      <td>0.110154</td>\n",
       "      <td>46184.992188</td>\n",
       "      <td>46481.105469</td>\n",
       "      <td>0.006162</td>\n",
       "    </tr>\n",
       "    <tr>\n",
       "      <th>5</th>\n",
       "      <td>2021-02-10</td>\n",
       "      <td>0.088905</td>\n",
       "      <td>46469.761719</td>\n",
       "      <td>44918.183594</td>\n",
       "      <td>-0.033625</td>\n",
       "    </tr>\n",
       "    <tr>\n",
       "      <th>6</th>\n",
       "      <td>2021-02-13</td>\n",
       "      <td>0.059687</td>\n",
       "      <td>47491.203125</td>\n",
       "      <td>47105.515625</td>\n",
       "      <td>0.048696</td>\n",
       "    </tr>\n",
       "    <tr>\n",
       "      <th>7</th>\n",
       "      <td>2021-02-14</td>\n",
       "      <td>0.129588</td>\n",
       "      <td>47114.507812</td>\n",
       "      <td>48717.289062</td>\n",
       "      <td>0.034216</td>\n",
       "    </tr>\n",
       "    <tr>\n",
       "      <th>8</th>\n",
       "      <td>2021-02-15</td>\n",
       "      <td>0.163900</td>\n",
       "      <td>48696.535156</td>\n",
       "      <td>47945.058594</td>\n",
       "      <td>-0.015851</td>\n",
       "    </tr>\n",
       "    <tr>\n",
       "      <th>9</th>\n",
       "      <td>2021-02-18</td>\n",
       "      <td>0.107724</td>\n",
       "      <td>52140.972656</td>\n",
       "      <td>51679.796875</td>\n",
       "      <td>0.077896</td>\n",
       "    </tr>\n",
       "    <tr>\n",
       "      <th>10</th>\n",
       "      <td>2021-02-19</td>\n",
       "      <td>0.102594</td>\n",
       "      <td>51675.980469</td>\n",
       "      <td>55888.132812</td>\n",
       "      <td>0.081431</td>\n",
       "    </tr>\n",
       "    <tr>\n",
       "      <th>11</th>\n",
       "      <td>2021-02-22</td>\n",
       "      <td>0.055841</td>\n",
       "      <td>57532.738281</td>\n",
       "      <td>54207.320312</td>\n",
       "      <td>-0.030075</td>\n",
       "    </tr>\n",
       "    <tr>\n",
       "      <th>12</th>\n",
       "      <td>2021-02-28</td>\n",
       "      <td>0.055000</td>\n",
       "      <td>46194.015625</td>\n",
       "      <td>45137.769531</td>\n",
       "      <td>-0.167312</td>\n",
       "    </tr>\n",
       "    <tr>\n",
       "      <th>13</th>\n",
       "      <td>2021-03-11</td>\n",
       "      <td>0.142857</td>\n",
       "      <td>55963.179688</td>\n",
       "      <td>57805.121094</td>\n",
       "      <td>0.280638</td>\n",
       "    </tr>\n",
       "  </tbody>\n",
       "</table>\n",
       "</div>"
      ],
      "text/plain": [
       "         date  avg_sentiment      btc_open     btc_close  btc_return\n",
       "0  2021-02-05       0.072808  36931.546875  38144.308594         NaN\n",
       "1  2021-02-06       0.081210  38138.386719  39266.011719    0.029407\n",
       "2  2021-02-07       0.084731  39250.191406  38903.441406   -0.009234\n",
       "3  2021-02-08       0.098643  38886.828125  46196.464844    0.187465\n",
       "4  2021-02-09       0.110154  46184.992188  46481.105469    0.006162\n",
       "5  2021-02-10       0.088905  46469.761719  44918.183594   -0.033625\n",
       "6  2021-02-13       0.059687  47491.203125  47105.515625    0.048696\n",
       "7  2021-02-14       0.129588  47114.507812  48717.289062    0.034216\n",
       "8  2021-02-15       0.163900  48696.535156  47945.058594   -0.015851\n",
       "9  2021-02-18       0.107724  52140.972656  51679.796875    0.077896\n",
       "10 2021-02-19       0.102594  51675.980469  55888.132812    0.081431\n",
       "11 2021-02-22       0.055841  57532.738281  54207.320312   -0.030075\n",
       "12 2021-02-28       0.055000  46194.015625  45137.769531   -0.167312\n",
       "13 2021-03-11       0.142857  55963.179688  57805.121094    0.280638"
      ]
     },
     "execution_count": 48,
     "metadata": {},
     "output_type": "execute_result"
    }
   ],
   "source": [
    "merged"
   ]
  },
  {
   "cell_type": "code",
   "execution_count": 54,
   "metadata": {},
   "outputs": [
    {
     "data": {
      "application/vnd.plotly.v1+json": {
       "config": {
        "plotlyServerURL": "https://plot.ly"
       },
       "data": [
        {
         "close": {
          "bdata": "AAAA4Amg4kAAAABgQCzjQAAAACDu/uJAAAAA4I6O5kAAAABgI7LmQAAAAODF7uVAAAAAgDAA50AAAABAqcnnQAAAAOAhaedAAAAAgPk76UAAAABABErrQAAAAEDqd+pAAAAAoDgK5kAAAADgoznsQA==",
          "dtype": "f8"
         },
         "decreasing": {
          "line": {
           "color": "red"
          }
         },
         "increasing": {
          "line": {
           "color": "green"
          }
         },
         "name": "BTC Price",
         "open": {
          "bdata": "AAAAgHEI4kAAAABgTJ/iQAAAACBGKuNAAAAAgNr84kAAAADAH43mQAAAAGC4sOZAAAAAgGYw50AAAABAUAHnQAAAACARx+dAAAAAIJ916UAAAABgfzvpQAAAAKCXF+xAAAAAgECO5kAAAADAZVPrQA==",
          "dtype": "f8"
         },
         "type": "candlestick",
         "x": [
          "2021-02-05T00:00:00.000000000",
          "2021-02-06T00:00:00.000000000",
          "2021-02-07T00:00:00.000000000",
          "2021-02-08T00:00:00.000000000",
          "2021-02-09T00:00:00.000000000",
          "2021-02-10T00:00:00.000000000",
          "2021-02-13T00:00:00.000000000",
          "2021-02-14T00:00:00.000000000",
          "2021-02-15T00:00:00.000000000",
          "2021-02-18T00:00:00.000000000",
          "2021-02-19T00:00:00.000000000",
          "2021-02-22T00:00:00.000000000",
          "2021-02-28T00:00:00.000000000",
          "2021-03-11T00:00:00.000000000"
         ]
        },
        {
         "marker": {
          "color": "blue",
          "size": 5
         },
         "mode": "markers",
         "name": "Sentiment",
         "type": "scatter",
         "x": [
          "2021-02-05T00:00:00.000000000",
          "2021-02-06T00:00:00.000000000",
          "2021-02-07T00:00:00.000000000",
          "2021-02-08T00:00:00.000000000",
          "2021-02-09T00:00:00.000000000",
          "2021-02-10T00:00:00.000000000",
          "2021-02-13T00:00:00.000000000",
          "2021-02-14T00:00:00.000000000",
          "2021-02-15T00:00:00.000000000",
          "2021-02-18T00:00:00.000000000",
          "2021-02-19T00:00:00.000000000",
          "2021-02-22T00:00:00.000000000",
          "2021-02-28T00:00:00.000000000",
          "2021-03-11T00:00:00.000000000"
         ],
         "y": {
          "bdata": "AAAAAAAAAAAAAAAAAAA=",
          "dtype": "i1"
         }
        }
       ],
       "layout": {
        "template": {
         "data": {
          "bar": [
           {
            "error_x": {
             "color": "#f2f5fa"
            },
            "error_y": {
             "color": "#f2f5fa"
            },
            "marker": {
             "line": {
              "color": "rgb(17,17,17)",
              "width": 0.5
             },
             "pattern": {
              "fillmode": "overlay",
              "size": 10,
              "solidity": 0.2
             }
            },
            "type": "bar"
           }
          ],
          "barpolar": [
           {
            "marker": {
             "line": {
              "color": "rgb(17,17,17)",
              "width": 0.5
             },
             "pattern": {
              "fillmode": "overlay",
              "size": 10,
              "solidity": 0.2
             }
            },
            "type": "barpolar"
           }
          ],
          "carpet": [
           {
            "aaxis": {
             "endlinecolor": "#A2B1C6",
             "gridcolor": "#506784",
             "linecolor": "#506784",
             "minorgridcolor": "#506784",
             "startlinecolor": "#A2B1C6"
            },
            "baxis": {
             "endlinecolor": "#A2B1C6",
             "gridcolor": "#506784",
             "linecolor": "#506784",
             "minorgridcolor": "#506784",
             "startlinecolor": "#A2B1C6"
            },
            "type": "carpet"
           }
          ],
          "choropleth": [
           {
            "colorbar": {
             "outlinewidth": 0,
             "ticks": ""
            },
            "type": "choropleth"
           }
          ],
          "contour": [
           {
            "colorbar": {
             "outlinewidth": 0,
             "ticks": ""
            },
            "colorscale": [
             [
              0,
              "#0d0887"
             ],
             [
              0.1111111111111111,
              "#46039f"
             ],
             [
              0.2222222222222222,
              "#7201a8"
             ],
             [
              0.3333333333333333,
              "#9c179e"
             ],
             [
              0.4444444444444444,
              "#bd3786"
             ],
             [
              0.5555555555555556,
              "#d8576b"
             ],
             [
              0.6666666666666666,
              "#ed7953"
             ],
             [
              0.7777777777777778,
              "#fb9f3a"
             ],
             [
              0.8888888888888888,
              "#fdca26"
             ],
             [
              1,
              "#f0f921"
             ]
            ],
            "type": "contour"
           }
          ],
          "contourcarpet": [
           {
            "colorbar": {
             "outlinewidth": 0,
             "ticks": ""
            },
            "type": "contourcarpet"
           }
          ],
          "heatmap": [
           {
            "colorbar": {
             "outlinewidth": 0,
             "ticks": ""
            },
            "colorscale": [
             [
              0,
              "#0d0887"
             ],
             [
              0.1111111111111111,
              "#46039f"
             ],
             [
              0.2222222222222222,
              "#7201a8"
             ],
             [
              0.3333333333333333,
              "#9c179e"
             ],
             [
              0.4444444444444444,
              "#bd3786"
             ],
             [
              0.5555555555555556,
              "#d8576b"
             ],
             [
              0.6666666666666666,
              "#ed7953"
             ],
             [
              0.7777777777777778,
              "#fb9f3a"
             ],
             [
              0.8888888888888888,
              "#fdca26"
             ],
             [
              1,
              "#f0f921"
             ]
            ],
            "type": "heatmap"
           }
          ],
          "histogram": [
           {
            "marker": {
             "pattern": {
              "fillmode": "overlay",
              "size": 10,
              "solidity": 0.2
             }
            },
            "type": "histogram"
           }
          ],
          "histogram2d": [
           {
            "colorbar": {
             "outlinewidth": 0,
             "ticks": ""
            },
            "colorscale": [
             [
              0,
              "#0d0887"
             ],
             [
              0.1111111111111111,
              "#46039f"
             ],
             [
              0.2222222222222222,
              "#7201a8"
             ],
             [
              0.3333333333333333,
              "#9c179e"
             ],
             [
              0.4444444444444444,
              "#bd3786"
             ],
             [
              0.5555555555555556,
              "#d8576b"
             ],
             [
              0.6666666666666666,
              "#ed7953"
             ],
             [
              0.7777777777777778,
              "#fb9f3a"
             ],
             [
              0.8888888888888888,
              "#fdca26"
             ],
             [
              1,
              "#f0f921"
             ]
            ],
            "type": "histogram2d"
           }
          ],
          "histogram2dcontour": [
           {
            "colorbar": {
             "outlinewidth": 0,
             "ticks": ""
            },
            "colorscale": [
             [
              0,
              "#0d0887"
             ],
             [
              0.1111111111111111,
              "#46039f"
             ],
             [
              0.2222222222222222,
              "#7201a8"
             ],
             [
              0.3333333333333333,
              "#9c179e"
             ],
             [
              0.4444444444444444,
              "#bd3786"
             ],
             [
              0.5555555555555556,
              "#d8576b"
             ],
             [
              0.6666666666666666,
              "#ed7953"
             ],
             [
              0.7777777777777778,
              "#fb9f3a"
             ],
             [
              0.8888888888888888,
              "#fdca26"
             ],
             [
              1,
              "#f0f921"
             ]
            ],
            "type": "histogram2dcontour"
           }
          ],
          "mesh3d": [
           {
            "colorbar": {
             "outlinewidth": 0,
             "ticks": ""
            },
            "type": "mesh3d"
           }
          ],
          "parcoords": [
           {
            "line": {
             "colorbar": {
              "outlinewidth": 0,
              "ticks": ""
             }
            },
            "type": "parcoords"
           }
          ],
          "pie": [
           {
            "automargin": true,
            "type": "pie"
           }
          ],
          "scatter": [
           {
            "marker": {
             "line": {
              "color": "#283442"
             }
            },
            "type": "scatter"
           }
          ],
          "scatter3d": [
           {
            "line": {
             "colorbar": {
              "outlinewidth": 0,
              "ticks": ""
             }
            },
            "marker": {
             "colorbar": {
              "outlinewidth": 0,
              "ticks": ""
             }
            },
            "type": "scatter3d"
           }
          ],
          "scattercarpet": [
           {
            "marker": {
             "colorbar": {
              "outlinewidth": 0,
              "ticks": ""
             }
            },
            "type": "scattercarpet"
           }
          ],
          "scattergeo": [
           {
            "marker": {
             "colorbar": {
              "outlinewidth": 0,
              "ticks": ""
             }
            },
            "type": "scattergeo"
           }
          ],
          "scattergl": [
           {
            "marker": {
             "line": {
              "color": "#283442"
             }
            },
            "type": "scattergl"
           }
          ],
          "scattermap": [
           {
            "marker": {
             "colorbar": {
              "outlinewidth": 0,
              "ticks": ""
             }
            },
            "type": "scattermap"
           }
          ],
          "scattermapbox": [
           {
            "marker": {
             "colorbar": {
              "outlinewidth": 0,
              "ticks": ""
             }
            },
            "type": "scattermapbox"
           }
          ],
          "scatterpolar": [
           {
            "marker": {
             "colorbar": {
              "outlinewidth": 0,
              "ticks": ""
             }
            },
            "type": "scatterpolar"
           }
          ],
          "scatterpolargl": [
           {
            "marker": {
             "colorbar": {
              "outlinewidth": 0,
              "ticks": ""
             }
            },
            "type": "scatterpolargl"
           }
          ],
          "scatterternary": [
           {
            "marker": {
             "colorbar": {
              "outlinewidth": 0,
              "ticks": ""
             }
            },
            "type": "scatterternary"
           }
          ],
          "surface": [
           {
            "colorbar": {
             "outlinewidth": 0,
             "ticks": ""
            },
            "colorscale": [
             [
              0,
              "#0d0887"
             ],
             [
              0.1111111111111111,
              "#46039f"
             ],
             [
              0.2222222222222222,
              "#7201a8"
             ],
             [
              0.3333333333333333,
              "#9c179e"
             ],
             [
              0.4444444444444444,
              "#bd3786"
             ],
             [
              0.5555555555555556,
              "#d8576b"
             ],
             [
              0.6666666666666666,
              "#ed7953"
             ],
             [
              0.7777777777777778,
              "#fb9f3a"
             ],
             [
              0.8888888888888888,
              "#fdca26"
             ],
             [
              1,
              "#f0f921"
             ]
            ],
            "type": "surface"
           }
          ],
          "table": [
           {
            "cells": {
             "fill": {
              "color": "#506784"
             },
             "line": {
              "color": "rgb(17,17,17)"
             }
            },
            "header": {
             "fill": {
              "color": "#2a3f5f"
             },
             "line": {
              "color": "rgb(17,17,17)"
             }
            },
            "type": "table"
           }
          ]
         },
         "layout": {
          "annotationdefaults": {
           "arrowcolor": "#f2f5fa",
           "arrowhead": 0,
           "arrowwidth": 1
          },
          "autotypenumbers": "strict",
          "coloraxis": {
           "colorbar": {
            "outlinewidth": 0,
            "ticks": ""
           }
          },
          "colorscale": {
           "diverging": [
            [
             0,
             "#8e0152"
            ],
            [
             0.1,
             "#c51b7d"
            ],
            [
             0.2,
             "#de77ae"
            ],
            [
             0.3,
             "#f1b6da"
            ],
            [
             0.4,
             "#fde0ef"
            ],
            [
             0.5,
             "#f7f7f7"
            ],
            [
             0.6,
             "#e6f5d0"
            ],
            [
             0.7,
             "#b8e186"
            ],
            [
             0.8,
             "#7fbc41"
            ],
            [
             0.9,
             "#4d9221"
            ],
            [
             1,
             "#276419"
            ]
           ],
           "sequential": [
            [
             0,
             "#0d0887"
            ],
            [
             0.1111111111111111,
             "#46039f"
            ],
            [
             0.2222222222222222,
             "#7201a8"
            ],
            [
             0.3333333333333333,
             "#9c179e"
            ],
            [
             0.4444444444444444,
             "#bd3786"
            ],
            [
             0.5555555555555556,
             "#d8576b"
            ],
            [
             0.6666666666666666,
             "#ed7953"
            ],
            [
             0.7777777777777778,
             "#fb9f3a"
            ],
            [
             0.8888888888888888,
             "#fdca26"
            ],
            [
             1,
             "#f0f921"
            ]
           ],
           "sequentialminus": [
            [
             0,
             "#0d0887"
            ],
            [
             0.1111111111111111,
             "#46039f"
            ],
            [
             0.2222222222222222,
             "#7201a8"
            ],
            [
             0.3333333333333333,
             "#9c179e"
            ],
            [
             0.4444444444444444,
             "#bd3786"
            ],
            [
             0.5555555555555556,
             "#d8576b"
            ],
            [
             0.6666666666666666,
             "#ed7953"
            ],
            [
             0.7777777777777778,
             "#fb9f3a"
            ],
            [
             0.8888888888888888,
             "#fdca26"
            ],
            [
             1,
             "#f0f921"
            ]
           ]
          },
          "colorway": [
           "#636efa",
           "#EF553B",
           "#00cc96",
           "#ab63fa",
           "#FFA15A",
           "#19d3f3",
           "#FF6692",
           "#B6E880",
           "#FF97FF",
           "#FECB52"
          ],
          "font": {
           "color": "#f2f5fa"
          },
          "geo": {
           "bgcolor": "rgb(17,17,17)",
           "lakecolor": "rgb(17,17,17)",
           "landcolor": "rgb(17,17,17)",
           "showlakes": true,
           "showland": true,
           "subunitcolor": "#506784"
          },
          "hoverlabel": {
           "align": "left"
          },
          "hovermode": "closest",
          "mapbox": {
           "style": "dark"
          },
          "paper_bgcolor": "rgb(17,17,17)",
          "plot_bgcolor": "rgb(17,17,17)",
          "polar": {
           "angularaxis": {
            "gridcolor": "#506784",
            "linecolor": "#506784",
            "ticks": ""
           },
           "bgcolor": "rgb(17,17,17)",
           "radialaxis": {
            "gridcolor": "#506784",
            "linecolor": "#506784",
            "ticks": ""
           }
          },
          "scene": {
           "xaxis": {
            "backgroundcolor": "rgb(17,17,17)",
            "gridcolor": "#506784",
            "gridwidth": 2,
            "linecolor": "#506784",
            "showbackground": true,
            "ticks": "",
            "zerolinecolor": "#C8D4E3"
           },
           "yaxis": {
            "backgroundcolor": "rgb(17,17,17)",
            "gridcolor": "#506784",
            "gridwidth": 2,
            "linecolor": "#506784",
            "showbackground": true,
            "ticks": "",
            "zerolinecolor": "#C8D4E3"
           },
           "zaxis": {
            "backgroundcolor": "rgb(17,17,17)",
            "gridcolor": "#506784",
            "gridwidth": 2,
            "linecolor": "#506784",
            "showbackground": true,
            "ticks": "",
            "zerolinecolor": "#C8D4E3"
           }
          },
          "shapedefaults": {
           "line": {
            "color": "#f2f5fa"
           }
          },
          "sliderdefaults": {
           "bgcolor": "#C8D4E3",
           "bordercolor": "rgb(17,17,17)",
           "borderwidth": 1,
           "tickwidth": 0
          },
          "ternary": {
           "aaxis": {
            "gridcolor": "#506784",
            "linecolor": "#506784",
            "ticks": ""
           },
           "baxis": {
            "gridcolor": "#506784",
            "linecolor": "#506784",
            "ticks": ""
           },
           "bgcolor": "rgb(17,17,17)",
           "caxis": {
            "gridcolor": "#506784",
            "linecolor": "#506784",
            "ticks": ""
           }
          },
          "title": {
           "x": 0.05
          },
          "updatemenudefaults": {
           "bgcolor": "#506784",
           "borderwidth": 0
          },
          "xaxis": {
           "automargin": true,
           "gridcolor": "#283442",
           "linecolor": "#506784",
           "ticks": "",
           "title": {
            "standoff": 15
           },
           "zerolinecolor": "#283442",
           "zerolinewidth": 2
          },
          "yaxis": {
           "automargin": true,
           "gridcolor": "#283442",
           "linecolor": "#506784",
           "ticks": "",
           "title": {
            "standoff": 15
           },
           "zerolinecolor": "#283442",
           "zerolinewidth": 2
          }
         }
        },
        "title": {
         "text": "Bitcoin Price and Sentiment Analysis"
        },
        "xaxis": {
         "rangeslider": {
          "visible": false
         },
         "title": {
          "text": "Date"
         }
        },
        "yaxis": {
         "title": {
          "text": "Price (USD)"
         }
        }
       }
      }
     },
     "metadata": {},
     "output_type": "display_data"
    }
   ],
   "source": [
    "import yfinance as yf\n",
    "import pandas as pd\n",
    "import plotly.graph_objects as go\n",
    "\n",
    "\n",
    "# Create the candlestick chart\n",
    "fig = go.Figure(data=[go.Candlestick(\n",
    "    x=merged['date'],\n",
    "    open=merged['btc_open'],\n",
    "    close=merged['btc_close'],\n",
    "    name='BTC Price',\n",
    "    increasing_line_color='green', decreasing_line_color='red',\n",
    ")])\n",
    "\n",
    "# Add sentiment line (you can adjust this for how you want sentiment displayed)\n",
    "fig.add_trace(go.Scatter(\n",
    "    x=merged['date'],\n",
    "    y=merged['avg_sentiment'].apply(lambda x: 1 if x == 'POSITIVE' else (-1 if x == 'NEGATIVE' else 0)),  # Map sentiment to numerical values for plotting\n",
    "    mode='markers',\n",
    "    name='Sentiment',\n",
    "    marker=dict(color='blue', size=5)\n",
    "))\n",
    "\n",
    "# Layout updates for better visibility\n",
    "fig.update_layout(\n",
    "    title=\"Bitcoin Price and Sentiment Analysis\",\n",
    "    xaxis_title=\"Date\",\n",
    "    yaxis_title=\"Price (USD)\",\n",
    "    xaxis_rangeslider_visible=False,\n",
    "    template=\"plotly_dark\",\n",
    ")\n",
    "\n",
    "fig.show()"
   ]
  },
  {
   "cell_type": "code",
   "execution_count": 26,
   "metadata": {},
   "outputs": [
    {
     "ename": "KeyError",
     "evalue": "\"['avg_sentiment'] not in index\"",
     "output_type": "error",
     "traceback": [
      "\u001b[1;31m---------------------------------------------------------------------------\u001b[0m",
      "\u001b[1;31mKeyError\u001b[0m                                  Traceback (most recent call last)",
      "Cell \u001b[1;32mIn[26], line 1\u001b[0m\n\u001b[1;32m----> 1\u001b[0m correlation \u001b[38;5;241m=\u001b[39m \u001b[43mmerged\u001b[49m\u001b[43m[\u001b[49m\u001b[43m[\u001b[49m\u001b[38;5;124;43m'\u001b[39;49m\u001b[38;5;124;43mavg_sentiment\u001b[39;49m\u001b[38;5;124;43m'\u001b[39;49m\u001b[43m,\u001b[49m\u001b[43m \u001b[49m\u001b[38;5;124;43m'\u001b[39;49m\u001b[38;5;124;43mbtc_return\u001b[39;49m\u001b[38;5;124;43m'\u001b[39;49m\u001b[43m]\u001b[49m\u001b[43m]\u001b[49m\u001b[38;5;241m.\u001b[39mcorr()\u001b[38;5;241m.\u001b[39miloc[\u001b[38;5;241m0\u001b[39m,\u001b[38;5;241m1\u001b[39m]\n\u001b[0;32m      2\u001b[0m \u001b[38;5;28mprint\u001b[39m(\u001b[38;5;124mf\u001b[39m\u001b[38;5;124m\"\u001b[39m\u001b[38;5;124mCorrelation between sentiment and return: \u001b[39m\u001b[38;5;132;01m{\u001b[39;00mcorrelation\u001b[38;5;132;01m:\u001b[39;00m\u001b[38;5;124m.4f\u001b[39m\u001b[38;5;132;01m}\u001b[39;00m\u001b[38;5;124m\"\u001b[39m)\n",
      "File \u001b[1;32mc:\\Users\\shefs\\AppData\\Local\\Programs\\Python\\Python312\\Lib\\site-packages\\pandas\\core\\frame.py:4108\u001b[0m, in \u001b[0;36mDataFrame.__getitem__\u001b[1;34m(self, key)\u001b[0m\n\u001b[0;32m   4106\u001b[0m     \u001b[38;5;28;01mif\u001b[39;00m is_iterator(key):\n\u001b[0;32m   4107\u001b[0m         key \u001b[38;5;241m=\u001b[39m \u001b[38;5;28mlist\u001b[39m(key)\n\u001b[1;32m-> 4108\u001b[0m     indexer \u001b[38;5;241m=\u001b[39m \u001b[38;5;28;43mself\u001b[39;49m\u001b[38;5;241;43m.\u001b[39;49m\u001b[43mcolumns\u001b[49m\u001b[38;5;241;43m.\u001b[39;49m\u001b[43m_get_indexer_strict\u001b[49m\u001b[43m(\u001b[49m\u001b[43mkey\u001b[49m\u001b[43m,\u001b[49m\u001b[43m \u001b[49m\u001b[38;5;124;43m\"\u001b[39;49m\u001b[38;5;124;43mcolumns\u001b[39;49m\u001b[38;5;124;43m\"\u001b[39;49m\u001b[43m)\u001b[49m[\u001b[38;5;241m1\u001b[39m]\n\u001b[0;32m   4110\u001b[0m \u001b[38;5;66;03m# take() does not accept boolean indexers\u001b[39;00m\n\u001b[0;32m   4111\u001b[0m \u001b[38;5;28;01mif\u001b[39;00m \u001b[38;5;28mgetattr\u001b[39m(indexer, \u001b[38;5;124m\"\u001b[39m\u001b[38;5;124mdtype\u001b[39m\u001b[38;5;124m\"\u001b[39m, \u001b[38;5;28;01mNone\u001b[39;00m) \u001b[38;5;241m==\u001b[39m \u001b[38;5;28mbool\u001b[39m:\n",
      "File \u001b[1;32mc:\\Users\\shefs\\AppData\\Local\\Programs\\Python\\Python312\\Lib\\site-packages\\pandas\\core\\indexes\\base.py:6200\u001b[0m, in \u001b[0;36mIndex._get_indexer_strict\u001b[1;34m(self, key, axis_name)\u001b[0m\n\u001b[0;32m   6197\u001b[0m \u001b[38;5;28;01melse\u001b[39;00m:\n\u001b[0;32m   6198\u001b[0m     keyarr, indexer, new_indexer \u001b[38;5;241m=\u001b[39m \u001b[38;5;28mself\u001b[39m\u001b[38;5;241m.\u001b[39m_reindex_non_unique(keyarr)\n\u001b[1;32m-> 6200\u001b[0m \u001b[38;5;28;43mself\u001b[39;49m\u001b[38;5;241;43m.\u001b[39;49m\u001b[43m_raise_if_missing\u001b[49m\u001b[43m(\u001b[49m\u001b[43mkeyarr\u001b[49m\u001b[43m,\u001b[49m\u001b[43m \u001b[49m\u001b[43mindexer\u001b[49m\u001b[43m,\u001b[49m\u001b[43m \u001b[49m\u001b[43maxis_name\u001b[49m\u001b[43m)\u001b[49m\n\u001b[0;32m   6202\u001b[0m keyarr \u001b[38;5;241m=\u001b[39m \u001b[38;5;28mself\u001b[39m\u001b[38;5;241m.\u001b[39mtake(indexer)\n\u001b[0;32m   6203\u001b[0m \u001b[38;5;28;01mif\u001b[39;00m \u001b[38;5;28misinstance\u001b[39m(key, Index):\n\u001b[0;32m   6204\u001b[0m     \u001b[38;5;66;03m# GH 42790 - Preserve name from an Index\u001b[39;00m\n",
      "File \u001b[1;32mc:\\Users\\shefs\\AppData\\Local\\Programs\\Python\\Python312\\Lib\\site-packages\\pandas\\core\\indexes\\base.py:6252\u001b[0m, in \u001b[0;36mIndex._raise_if_missing\u001b[1;34m(self, key, indexer, axis_name)\u001b[0m\n\u001b[0;32m   6249\u001b[0m     \u001b[38;5;28;01mraise\u001b[39;00m \u001b[38;5;167;01mKeyError\u001b[39;00m(\u001b[38;5;124mf\u001b[39m\u001b[38;5;124m\"\u001b[39m\u001b[38;5;124mNone of [\u001b[39m\u001b[38;5;132;01m{\u001b[39;00mkey\u001b[38;5;132;01m}\u001b[39;00m\u001b[38;5;124m] are in the [\u001b[39m\u001b[38;5;132;01m{\u001b[39;00maxis_name\u001b[38;5;132;01m}\u001b[39;00m\u001b[38;5;124m]\u001b[39m\u001b[38;5;124m\"\u001b[39m)\n\u001b[0;32m   6251\u001b[0m not_found \u001b[38;5;241m=\u001b[39m \u001b[38;5;28mlist\u001b[39m(ensure_index(key)[missing_mask\u001b[38;5;241m.\u001b[39mnonzero()[\u001b[38;5;241m0\u001b[39m]]\u001b[38;5;241m.\u001b[39munique())\n\u001b[1;32m-> 6252\u001b[0m \u001b[38;5;28;01mraise\u001b[39;00m \u001b[38;5;167;01mKeyError\u001b[39;00m(\u001b[38;5;124mf\u001b[39m\u001b[38;5;124m\"\u001b[39m\u001b[38;5;132;01m{\u001b[39;00mnot_found\u001b[38;5;132;01m}\u001b[39;00m\u001b[38;5;124m not in index\u001b[39m\u001b[38;5;124m\"\u001b[39m)\n",
      "\u001b[1;31mKeyError\u001b[0m: \"['avg_sentiment'] not in index\""
     ]
    }
   ],
   "source": [
    "correlation = merged[['avg_sentiment', 'btc_return']].corr().iloc[0,1]\n",
    "print(f\"Correlation between sentiment and return: {correlation:.4f}\")"
   ]
  },
  {
   "cell_type": "code",
   "execution_count": null,
   "metadata": {},
   "outputs": [],
   "source": [
    "# Keep only the specified columns if they exist in the dataframe\n",
    "df_filtered = df.copy()      \n",
    "columns_to_keep = ['user_created', 'user_followers', 'date', 'text']\n",
    "df_filtered = df_filtered[columns_to_keep]\n",
    "filters = {\n",
    "    'user_created': lambda df: df['user_created'] < df['date'] - pd.Timedelta(days=30),\n",
    "    'user_followers': lambda df: df['user_followers'] > 1000\n",
    "}\n",
    "\n",
    "# Apply filters\n",
    "for col, condition in filters.items():\n",
    "    df_filtered = df_filtered[condition(df_filtered)]\n",
    "    \n",
    "df.to_csv(\"datasets/filtered_tweets.csv\", index=False)\n",
    "df_filtered"
   ]
  },
  {
   "cell_type": "code",
   "execution_count": null,
   "metadata": {},
   "outputs": [],
   "source": [
    "import re\n",
    "df_clean = df_filtered.copy()\n",
    "\n",
    "def clean_tweet(text):\n",
    "    text = re.sub(r\"http\\S+\", \"\", text)  # remove URLs\n",
    "    text = re.sub(r\"@\\w+\", \"\", text)     # remove mentions\n",
    "    text = re.sub(r\"#\", \"\", text)        # remove hashtag symbol\n",
    "    text = re.sub(r\"\\s+\", \" \", text).strip()  # remove extra spaces\n",
    "    return text\n",
    "\n",
    "df_clean['clean_text'] = df_clean['text'].astype(str).apply(clean_tweet)\n",
    "df_clean.drop(columns=['text'], inplace=True)  # drop original text column\n",
    "df_clean.to_csv(\"datasets/cleaned_tweets.csv\", index=False)\n",
    "df_clean"
   ]
  },
  {
   "cell_type": "code",
   "execution_count": null,
   "metadata": {},
   "outputs": [],
   "source": [
    "from transformers import AutoTokenizer, AutoModelForSequenceClassification\n",
    "from transformers import pipeline\n",
    "\n",
    "# Load FinBERT\n",
    "model = AutoModelForSequenceClassification.from_pretrained(\"yiyanghkust/finbert-tone\")\n",
    "tokenizer = AutoTokenizer.from_pretrained(\"yiyanghkust/finbert-tone\")\n",
    "finbert = pipeline(\"sentiment-analysis\", model=model, tokenizer=tokenizer)\n",
    "\n",
    "# Run on a sample\n",
    "df_clean['sentiment'] = df_clean['clean_text'].apply(lambda x: finbert(x[:512])[0]['label'])  # truncate to 512 tokens"
   ]
  },
  {
   "cell_type": "code",
   "execution_count": null,
   "metadata": {},
   "outputs": [],
   "source": [
    "df_sentiment = df_clean.copy()\n",
    "df_sentiment.to_csv(\"datasets/sentiment_tweets.csv\", index=False)"
   ]
  },
  {
   "cell_type": "code",
   "execution_count": null,
   "metadata": {},
   "outputs": [],
   "source": [
    "sentiment_score = {'Positive': 1, 'Neutral': 0, 'Negative': -1}\n",
    "df_clean['sentiment_score'] = df_clean['sentiment'].map(sentiment_score)\n",
    "\n",
    "# Aggregate sentiment per day\n",
    "hourly_sentiment = df_clean.groupby(df_clean['date'].dt.floor('h'))['sentiment_score'].mean().reset_index()\n",
    "hourly_sentiment.columns = ['date', 'avg_sentiment']\n",
    "\n",
    "hourly_sentiment"
   ]
  },
  {
   "cell_type": "code",
   "execution_count": null,
   "metadata": {},
   "outputs": [],
   "source": [
    "import yfinance as yf\n",
    "\n",
    "# Load BTC data from yfinance\n",
    "btc = yf.download(\"BTC-USD\", start=\"2021-01-01\", end=\"2021-12-31\")\n",
    "btc = btc[['Close']].reset_index()\n",
    "btc.columns = ['date', 'btc_close']\n",
    "\n",
    "# Merge sentiment with price\n",
    "btc['date'] = pd.to_datetime(btc['date'])  # Convert 'date' column to datetime\n",
    "merged = pd.merge(hourly_sentiment, btc, on='date', how='inner')\n",
    "\n",
    "# Calculate daily return\n",
    "merged['btc_return'] = merged['btc_close'].pct_change()"
   ]
  },
  {
   "cell_type": "code",
   "execution_count": null,
   "metadata": {},
   "outputs": [],
   "source": [
    "import yfinance as yf\n",
    "import pandas as pd\n",
    "import plotly.graph_objects as go\n",
    "\n",
    "# Load BTC data from yfinance\n",
    "btc = yf.download(\"BTC-USD\", start=\"2021-01-01\", end=\"2021-12-31\")\n",
    "btc = btc[['Open', 'High', 'Low', 'Close']].reset_index()\n",
    "btc.columns = ['date', 'btc_open', 'btc_high', 'btc_low', 'btc_close']\n",
    "\n",
    "# Merge sentiment with price using df_clean to include the 'sentiment' column\n",
    "btc['date'] = pd.to_datetime(btc['date'])  # Convert 'date' column to datetime\n",
    "merged = pd.merge(df_clean[['date', 'sentiment']], btc, on='date', how='inner')\n",
    "\n",
    "# Calculate daily return\n",
    "merged['btc_return'] = merged['btc_close'].pct_change()\n",
    "\n",
    "# Create the candlestick chart\n",
    "fig = go.Figure(data=[go.Candlestick(\n",
    "    x=merged['date'],\n",
    "    open=merged['btc_open'],\n",
    "    high=merged['btc_high'],\n",
    "    low=merged['btc_low'],\n",
    "    close=merged['btc_close'],\n",
    "    name='BTC Price',\n",
    "    increasing_line_color='green', decreasing_line_color='red',\n",
    ")])\n",
    "\n",
    "# Add sentiment line (you can adjust this for how you want sentiment displayed)\n",
    "fig.add_trace(go.Scatter(\n",
    "    x=merged['date'],\n",
    "    y=merged['sentiment'].apply(lambda x: 1 if x == 'POSITIVE' else (-1 if x == 'NEGATIVE' else 0)),  # Map sentiment to numerical values for plotting\n",
    "    mode='markers',\n",
    "    name='Sentiment',\n",
    "    marker=dict(color='blue', size=5)\n",
    "))\n",
    "\n",
    "# Layout updates for better visibility\n",
    "fig.update_layout(\n",
    "    title=\"Bitcoin Price and Sentiment Analysis\",\n",
    "    xaxis_title=\"Date\",\n",
    "    yaxis_title=\"Price (USD)\",\n",
    "    xaxis_rangeslider_visible=False,\n",
    "    template=\"plotly_dark\",\n",
    ")\n",
    "\n",
    "fig.show()"
   ]
  },
  {
   "cell_type": "code",
   "execution_count": null,
   "metadata": {},
   "outputs": [],
   "source": [
    "correlation = merged[['avg_sentiment', 'btc_return']].corr().iloc[0,1]\n",
    "print(f\"Correlation between sentiment and return: {correlation:.4f}\")"
   ]
  },
  {
   "cell_type": "code",
   "execution_count": null,
   "metadata": {},
   "outputs": [],
   "source": [
    "import numpy as np\n",
    "import matplotlib.pyplot as plt\n",
    "\n",
    "def sharpe_ratio(returns):\n",
    "    return np.mean(returns) / np.std(returns) * np.sqrt(252)\n",
    "\n",
    "def geometric_mean_return(returns):\n",
    "    return (np.prod(1 + returns) ** (1 / len(returns))) - 1\n",
    "\n",
    "def max_drawdown(returns):\n",
    "    cum_returns = (1 + returns).cumprod()\n",
    "    peak = cum_returns.cummax()\n",
    "    drawdown = (cum_returns - peak) / peak\n",
    "    return drawdown.min()\n",
    "\n",
    "def evaluate_performance(data):\n",
    "    print(\"Sharpe Ratio:\", sharpe_ratio(data[\"Strategy_Return\"].dropna()))\n",
    "    print(\"Geometric Mean Return:\", geometric_mean_return(data[\"Strategy_Return\"].dropna()))\n",
    "    print(\"Max Drawdown:\", max_drawdown(data[\"Strategy_Return\"].dropna()))\n",
    "    data[[\"Return\", \"Strategy_Return\"]].cumsum().plot(title=\"Cumulative Returns\")\n",
    "    plt.show()\n",
    "\n",
    "evaluate_performance(btc)\n"
   ]
  },
  {
   "cell_type": "code",
   "execution_count": null,
   "metadata": {},
   "outputs": [],
   "source": [
    "# Keep only the specified columns if they exist in the dataframe\n",
    "df_filtered = df.copy()      \n",
    "columns_to_keep = ['user_created', 'user_followers', 'date', 'text']\n",
    "df_filtered = df_filtered[columns_to_keep]\n",
    "filters = {\n",
    "    'user_created': lambda df: df['user_created'] < df['date'] - pd.Timedelta(days=30),\n",
    "    'user_followers': lambda df: df['user_followers'] > 1000\n",
    "}\n",
    "\n",
    "# Apply filters\n",
    "for col, condition in filters.items():\n",
    "    df_filtered = df_filtered[condition(df_filtered)]\n",
    "    \n",
    "df.to_csv(\"datasets/filtered_tweets.csv\", index=False)\n",
    "df_filtered"
   ]
  },
  {
   "cell_type": "code",
   "execution_count": null,
   "metadata": {},
   "outputs": [],
   "source": [
    "import re\n",
    "df_clean = df_filtered.copy()\n",
    "\n",
    "def clean_tweet(text):\n",
    "    text = re.sub(r\"http\\S+\", \"\", text)  # remove URLs\n",
    "    text = re.sub(r\"@\\w+\", \"\", text)     # remove mentions\n",
    "    text = re.sub(r\"#\", \"\", text)        # remove hashtag symbol\n",
    "    text = re.sub(r\"\\s+\", \" \", text).strip()  # remove extra spaces\n",
    "    return text\n",
    "\n",
    "df_clean['clean_text'] = df_clean['text'].astype(str).apply(clean_tweet)\n",
    "df_clean.drop(columns=['text'], inplace=True)  # drop original text column\n",
    "df_clean.to_csv(\"datasets/cleaned_tweets.csv\", index=False)\n",
    "df_clean"
   ]
  },
  {
   "cell_type": "code",
   "execution_count": null,
   "metadata": {},
   "outputs": [],
   "source": [
    "from transformers import AutoTokenizer, AutoModelForSequenceClassification\n",
    "from transformers import pipeline\n",
    "\n",
    "# Load FinBERT\n",
    "model = AutoModelForSequenceClassification.from_pretrained(\"yiyanghkust/finbert-tone\")\n",
    "tokenizer = AutoTokenizer.from_pretrained(\"yiyanghkust/finbert-tone\")\n",
    "finbert = pipeline(\"sentiment-analysis\", model=model, tokenizer=tokenizer)\n",
    "\n",
    "# Run on a sample\n",
    "df_clean['sentiment'] = df_clean['clean_text'].apply(lambda x: finbert(x[:512])[0]['label'])  # truncate to 512 tokens"
   ]
  },
  {
   "cell_type": "code",
   "execution_count": null,
   "metadata": {},
   "outputs": [],
   "source": [
    "df_sentiment = df_clean.copy()\n",
    "df_sentiment.to_csv(\"datasets/sentiment_tweets.csv\", index=False)"
   ]
  },
  {
   "cell_type": "code",
   "execution_count": null,
   "metadata": {},
   "outputs": [],
   "source": [
    "sentiment_score = {'Positive': 1, 'Neutral': 0, 'Negative': -1}\n",
    "df_clean['sentiment_score'] = df_clean['sentiment'].map(sentiment_score)\n",
    "\n",
    "# Aggregate sentiment per day\n",
    "hourly_sentiment = df_clean.groupby(df_clean['date'].dt.floor('h'))['sentiment_score'].mean().reset_index()\n",
    "hourly_sentiment.columns = ['date', 'avg_sentiment']\n",
    "\n",
    "hourly_sentiment"
   ]
  },
  {
   "cell_type": "code",
   "execution_count": null,
   "metadata": {},
   "outputs": [],
   "source": [
    "import yfinance as yf\n",
    "\n",
    "# Load BTC data from yfinance\n",
    "btc = yf.download(\"BTC-USD\", start=\"2021-01-01\", end=\"2021-12-31\")\n",
    "btc = btc[['Close']].reset_index()\n",
    "btc.columns = ['date', 'btc_close']\n",
    "\n",
    "# Merge sentiment with price\n",
    "btc['date'] = pd.to_datetime(btc['date'])  # Convert 'date' column to datetime\n",
    "merged = pd.merge(hourly_sentiment, btc, on='date', how='inner')\n",
    "\n",
    "# Calculate daily return\n",
    "merged['btc_return'] = merged['btc_close'].pct_change()"
   ]
  },
  {
   "cell_type": "code",
   "execution_count": null,
   "metadata": {},
   "outputs": [],
   "source": [
    "import yfinance as yf\n",
    "import pandas as pd\n",
    "import plotly.graph_objects as go\n",
    "\n",
    "# Load BTC data from yfinance\n",
    "btc = yf.download(\"BTC-USD\", start=\"2021-01-01\", end=\"2021-12-31\")\n",
    "btc = btc[['Open', 'High', 'Low', 'Close']].reset_index()\n",
    "btc.columns = ['date', 'btc_open', 'btc_high', 'btc_low', 'btc_close']\n",
    "\n",
    "# Merge sentiment with price using df_clean to include the 'sentiment' column\n",
    "btc['date'] = pd.to_datetime(btc['date'])  # Convert 'date' column to datetime\n",
    "merged = pd.merge(df_clean[['date', 'sentiment']], btc, on='date', how='inner')\n",
    "\n",
    "# Calculate daily return\n",
    "merged['btc_return'] = merged['btc_close'].pct_change()\n",
    "\n",
    "# Create the candlestick chart\n",
    "fig = go.Figure(data=[go.Candlestick(\n",
    "    x=merged['date'],\n",
    "    open=merged['btc_open'],\n",
    "    high=merged['btc_high'],\n",
    "    low=merged['btc_low'],\n",
    "    close=merged['btc_close'],\n",
    "    name='BTC Price',\n",
    "    increasing_line_color='green', decreasing_line_color='red',\n",
    ")])\n",
    "\n",
    "# Add sentiment line (you can adjust this for how you want sentiment displayed)\n",
    "fig.add_trace(go.Scatter(\n",
    "    x=merged['date'],\n",
    "    y=merged['sentiment'].apply(lambda x: 1 if x == 'POSITIVE' else (-1 if x == 'NEGATIVE' else 0)),  # Map sentiment to numerical values for plotting\n",
    "    mode='markers',\n",
    "    name='Sentiment',\n",
    "    marker=dict(color='blue', size=5)\n",
    "))\n",
    "\n",
    "# Layout updates for better visibility\n",
    "fig.update_layout(\n",
    "    title=\"Bitcoin Price and Sentiment Analysis\",\n",
    "    xaxis_title=\"Date\",\n",
    "    yaxis_title=\"Price (USD)\",\n",
    "    xaxis_rangeslider_visible=False,\n",
    "    template=\"plotly_dark\",\n",
    ")\n",
    "\n",
    "fig.show()"
   ]
  },
  {
   "cell_type": "code",
   "execution_count": null,
   "metadata": {},
   "outputs": [],
   "source": [
    "merged"
   ]
  },
  {
   "cell_type": "code",
   "execution_count": null,
   "metadata": {},
   "outputs": [],
   "source": [
    "correlation = merged[['avg_sentiment', 'btc_return']].corr().iloc[0,1]\n",
    "print(f\"Correlation between sentiment and return: {correlation:.4f}\")"
   ]
  },
  {
   "cell_type": "code",
   "execution_count": null,
   "metadata": {},
   "outputs": [],
   "source": [
    "# Keep only the specified columns if they exist in the dataframe\n",
    "df_filtered = df.copy()      \n",
    "columns_to_keep = ['user_created', 'user_followers', 'date', 'text']\n",
    "df_filtered = df_filtered[columns_to_keep]\n",
    "filters = {\n",
    "    'user_created': lambda df: df['user_created'] < df['date'] - pd.Timedelta(days=30),\n",
    "    'user_followers': lambda df: df['user_followers'] > 1000\n",
    "}\n",
    "\n",
    "# Apply filters\n",
    "for col, condition in filters.items():\n",
    "    df_filtered = df_filtered[condition(df_filtered)]\n",
    "    \n",
    "df.to_csv(\"datasets/filtered_tweets.csv\", index=False)\n",
    "df_filtered"
   ]
  },
  {
   "cell_type": "code",
   "execution_count": null,
   "metadata": {},
   "outputs": [],
   "source": [
    "import re\n",
    "df_clean = df_filtered.copy()\n",
    "\n",
    "def clean_tweet(text):\n",
    "    text = re.sub(r\"http\\S+\", \"\", text)  # remove URLs\n",
    "    text = re.sub(r\"@\\w+\", \"\", text)     # remove mentions\n",
    "    text = re.sub(r\"#\", \"\", text)        # remove hashtag symbol\n",
    "    text = re.sub(r\"\\s+\", \" \", text).strip()  # remove extra spaces\n",
    "    return text\n",
    "\n",
    "df_clean['clean_text'] = df_clean['text'].astype(str).apply(clean_tweet)\n",
    "df_clean.drop(columns=['text'], inplace=True)  # drop original text column\n",
    "df_clean.to_csv(\"datasets/cleaned_tweets.csv\", index=False)\n",
    "df_clean"
   ]
  },
  {
   "cell_type": "code",
   "execution_count": null,
   "metadata": {},
   "outputs": [],
   "source": [
    "from transformers import AutoTokenizer, AutoModelForSequenceClassification\n",
    "from transformers import pipeline\n",
    "\n",
    "# Load FinBERT\n",
    "model = AutoModelForSequenceClassification.from_pretrained(\"yiyanghkust/finbert-tone\")\n",
    "tokenizer = AutoTokenizer.from_pretrained(\"yiyanghkust/finbert-tone\")\n",
    "finbert = pipeline(\"sentiment-analysis\", model=model, tokenizer=tokenizer)\n",
    "\n",
    "# Run on a sample\n",
    "df_clean['sentiment'] = df_clean['clean_text'].apply(lambda x: finbert(x[:512])[0]['label'])  # truncate to 512 tokens"
   ]
  },
  {
   "cell_type": "code",
   "execution_count": null,
   "metadata": {},
   "outputs": [],
   "source": [
    "df_sentiment = df_clean.copy()\n",
    "df_sentiment.to_csv(\"datasets/sentiment_tweets.csv\", index=False)"
   ]
  },
  {
   "cell_type": "code",
   "execution_count": null,
   "metadata": {},
   "outputs": [],
   "source": [
    "sentiment_score = {'Positive': 1, 'Neutral': 0, 'Negative': -1}\n",
    "df_clean['sentiment_score'] = df_clean['sentiment'].map(sentiment_score)\n",
    "\n",
    "# Aggregate sentiment per day\n",
    "hourly_sentiment = df_clean.groupby(df_clean['date'].dt.floor('h'))['sentiment_score'].mean().reset_index()\n",
    "hourly_sentiment.columns = ['date', 'avg_sentiment']\n",
    "\n",
    "hourly_sentiment"
   ]
  },
  {
   "cell_type": "code",
   "execution_count": null,
   "metadata": {},
   "outputs": [],
   "source": [
    "import yfinance as yf\n",
    "\n",
    "# Load BTC data from yfinance\n",
    "btc = yf.download(\"BTC-USD\", start=\"2021-01-01\", end=\"2021-12-31\")\n",
    "btc = btc[['Close']].reset_index()\n",
    "btc.columns = ['date', 'btc_close']\n",
    "\n",
    "# Merge sentiment with price\n",
    "btc['date'] = pd.to_datetime(btc['date'])  # Convert 'date' column to datetime\n",
    "merged = pd.merge(hourly_sentiment, btc, on='date', how='inner')\n",
    "\n",
    "# Calculate daily return\n",
    "merged['btc_return'] = merged['btc_close'].pct_change()"
   ]
  },
  {
   "cell_type": "code",
   "execution_count": null,
   "metadata": {},
   "outputs": [],
   "source": [
    "import yfinance as yf\n",
    "import pandas as pd\n",
    "import plotly.graph_objects as go\n",
    "\n",
    "# Load BTC data from yfinance\n",
    "btc = yf.download(\"BTC-USD\", start=\"2021-01-01\", end=\"2021-12-31\")\n",
    "btc = btc[['Open', 'High', 'Low', 'Close']].reset_index()\n",
    "btc.columns = ['date', 'btc_open', 'btc_high', 'btc_low', 'btc_close']\n",
    "\n",
    "# Merge sentiment with price using df_clean to include the 'sentiment' column\n",
    "btc['date'] = pd.to_datetime(btc['date'])  # Convert 'date' column to datetime\n",
    "merged = pd.merge(df_clean[['date', 'sentiment']], btc, on='date', how='inner')\n",
    "\n",
    "# Calculate daily return\n",
    "merged['btc_return'] = merged['btc_close'].pct_change()\n",
    "\n",
    "# Create the candlestick chart\n",
    "fig = go.Figure(data=[go.Candlestick(\n",
    "    x=merged['date'],\n",
    "    open=merged['btc_open'],\n",
    "    high=merged['btc_high'],\n",
    "    low=merged['btc_low'],\n",
    "    close=merged['btc_close'],\n",
    "    name='BTC Price',\n",
    "    increasing_line_color='green', decreasing_line_color='red',\n",
    ")])\n",
    "\n",
    "# Add sentiment line (you can adjust this for how you want sentiment displayed)\n",
    "fig.add_trace(go.Scatter(\n",
    "    x=merged['date'],\n",
    "    y=merged['sentiment'].apply(lambda x: 1 if x == 'POSITIVE' else (-1 if x == 'NEGATIVE' else 0)),  # Map sentiment to numerical values for plotting\n",
    "    mode='markers',\n",
    "    name='Sentiment',\n",
    "    marker=dict(color='blue', size=5)\n",
    "))\n",
    "\n",
    "# Layout updates for better visibility\n",
    "fig.update_layout(\n",
    "    title=\"Bitcoin Price and Sentiment Analysis\",\n",
    "    xaxis_title=\"Date\",\n",
    "    yaxis_title=\"Price (USD)\",\n",
    "    xaxis_rangeslider_visible=False,\n",
    "    template=\"plotly_dark\",\n",
    ")\n",
    "\n",
    "fig.show()"
   ]
  },
  {
   "cell_type": "code",
   "execution_count": null,
   "metadata": {},
   "outputs": [],
   "source": [
    "merged"
   ]
  },
  {
   "cell_type": "code",
   "execution_count": null,
   "metadata": {},
   "outputs": [],
   "source": [
    "correlation = merged[['avg_sentiment', 'btc_return']].corr().iloc[0,1]\n",
    "print(f\"Correlation between sentiment and return: {correlation:.4f}\")"
   ]
  },
  {
   "cell_type": "code",
   "execution_count": null,
   "metadata": {},
   "outputs": [],
   "source": [
    "# Keep only the specified columns if they exist in the dataframe\n",
    "df_filtered = df.copy()      \n",
    "columns_to_keep = ['user_created', 'user_followers', 'date', 'text']\n",
    "df_filtered = df_filtered[columns_to_keep]\n",
    "filters = {\n",
    "    'user_created': lambda df: df['user_created'] < df['date'] - pd.Timedelta(days=30),\n",
    "    'user_followers': lambda df: df['user_followers'] > 1000\n",
    "}\n",
    "\n",
    "# Apply filters\n",
    "for col, condition in filters.items():\n",
    "    df_filtered = df_filtered[condition(df_filtered)]\n",
    "    \n",
    "df.to_csv(\"datasets/filtered_tweets.csv\", index=False)\n",
    "df_filtered"
   ]
  },
  {
   "cell_type": "code",
   "execution_count": null,
   "metadata": {},
   "outputs": [],
   "source": [
    "import re\n",
    "df_clean = df_filtered.copy()\n",
    "\n",
    "def clean_tweet(text):\n",
    "    text = re.sub(r\"http\\S+\", \"\", text)  # remove URLs\n",
    "    text = re.sub(r\"@\\w+\", \"\", text)     # remove mentions\n",
    "    text = re.sub(r\"#\", \"\", text)        # remove hashtag symbol\n",
    "    text = re.sub(r\"\\s+\", \" \", text).strip()  # remove extra spaces\n",
    "    return text\n",
    "\n",
    "df_clean['clean_text'] = df_clean['text'].astype(str).apply(clean_tweet)\n",
    "df_clean.drop(columns=['text'], inplace=True)  # drop original text column\n",
    "df_clean.to_csv(\"datasets/cleaned_tweets.csv\", index=False)\n",
    "df_clean"
   ]
  },
  {
   "cell_type": "code",
   "execution_count": null,
   "metadata": {},
   "outputs": [],
   "source": [
    "from transformers import AutoTokenizer, AutoModelForSequenceClassification\n",
    "from transformers import pipeline\n",
    "\n",
    "# Load FinBERT\n",
    "model = AutoModelForSequenceClassification.from_pretrained(\"yiyanghkust/finbert-tone\")\n",
    "tokenizer = AutoTokenizer.from_pretrained(\"yiyanghkust/finbert-tone\")\n",
    "finbert = pipeline(\"sentiment-analysis\", model=model, tokenizer=tokenizer)\n",
    "\n",
    "# Run on a sample\n",
    "df_clean['sentiment'] = df_clean['clean_text'].apply(lambda x: finbert(x[:512])[0]['label'])  # truncate to 512 tokens"
   ]
  },
  {
   "cell_type": "code",
   "execution_count": null,
   "metadata": {},
   "outputs": [],
   "source": [
    "df_sentiment = df_clean.copy()\n",
    "df_sentiment.to_csv(\"datasets/sentiment_tweets.csv\", index=False)"
   ]
  },
  {
   "cell_type": "code",
   "execution_count": null,
   "metadata": {},
   "outputs": [],
   "source": [
    "sentiment_score = {'Positive': 1, 'Neutral': 0, 'Negative': -1}\n",
    "df_clean['sentiment_score'] = df_clean['sentiment'].map(sentiment_score)\n",
    "\n",
    "# Aggregate sentiment per day\n",
    "hourly_sentiment = df_clean.groupby(df_clean['date'].dt.floor('h'))['sentiment_score'].mean().reset_index()\n",
    "hourly_sentiment.columns = ['date', 'avg_sentiment']\n",
    "\n",
    "hourly_sentiment"
   ]
  },
  {
   "cell_type": "code",
   "execution_count": null,
   "metadata": {},
   "outputs": [],
   "source": [
    "import yfinance as yf\n",
    "\n",
    "# Load BTC data from yfinance\n",
    "btc = yf.download(\"BTC-USD\", start=\"2021-01-01\", end=\"2021-12-31\")\n",
    "btc = btc[['Close']].reset_index()\n",
    "btc.columns = ['date', 'btc_close']\n",
    "\n",
    "# Merge sentiment with price\n",
    "btc['date'] = pd.to_datetime(btc['date'])  # Convert 'date' column to datetime\n",
    "merged = pd.merge(hourly_sentiment, btc, on='date', how='inner')\n",
    "\n",
    "# Calculate daily return\n",
    "merged['btc_return'] = merged['btc_close'].pct_change()"
   ]
  },
  {
   "cell_type": "code",
   "execution_count": null,
   "metadata": {},
   "outputs": [],
   "source": [
    "import yfinance as yf\n",
    "import pandas as pd\n",
    "import plotly.graph_objects as go\n",
    "\n",
    "# Load BTC data from yfinance\n",
    "btc = yf.download(\"BTC-USD\", start=\"2021-01-01\", end=\"2021-12-31\")\n",
    "btc = btc[['Open', 'High', 'Low', 'Close']].reset_index()\n",
    "btc.columns = ['date', 'btc_open', 'btc_high', 'btc_low', 'btc_close']\n",
    "\n",
    "# Merge sentiment with price using df_clean to include the 'sentiment' column\n",
    "btc['date'] = pd.to_datetime(btc['date'])  # Convert 'date' column to datetime\n",
    "merged = pd.merge(df_clean[['date', 'sentiment']], btc, on='date', how='inner')\n",
    "\n",
    "# Calculate daily return\n",
    "merged['btc_return'] = merged['btc_close'].pct_change()\n",
    "\n",
    "# Create the candlestick chart\n",
    "fig = go.Figure(data=[go.Candlestick(\n",
    "    x=merged['date'],\n",
    "    open=merged['btc_open'],\n",
    "    high=merged['btc_high'],\n",
    "    low=merged['btc_low'],\n",
    "    close=merged['btc_close'],\n",
    "    name='BTC Price',\n",
    "    increasing_line_color='green', decreasing_line_color='red',\n",
    ")])\n",
    "\n",
    "# Add sentiment line (you can adjust this for how you want sentiment displayed)\n",
    "fig.add_trace(go.Scatter(\n",
    "    x=merged['date'],\n",
    "    y=merged['sentiment'].apply(lambda x: 1 if x == 'POSITIVE' else (-1 if x == 'NEGATIVE' else 0)),  # Map sentiment to numerical values for plotting\n",
    "    mode='markers',\n",
    "    name='Sentiment',\n",
    "    marker=dict(color='blue', size=5)\n",
    "))\n",
    "\n",
    "# Layout updates for better visibility\n",
    "fig.update_layout(\n",
    "    title=\"Bitcoin Price and Sentiment Analysis\",\n",
    "    xaxis_title=\"Date\",\n",
    "    yaxis_title=\"Price (USD)\",\n",
    "    xaxis_rangeslider_visible=False,\n",
    "    template=\"plotly_dark\",\n",
    ")\n",
    "\n",
    "fig.show()"
   ]
  },
  {
   "cell_type": "code",
   "execution_count": null,
   "metadata": {},
   "outputs": [],
   "source": [
    "merged"
   ]
  },
  {
   "cell_type": "code",
   "execution_count": null,
   "metadata": {},
   "outputs": [],
   "source": [
    "correlation = merged[['avg_sentiment', 'btc_return']].corr().iloc[0,1]\n",
    "print(f\"Correlation between sentiment and return: {correlation:.4f}\")"
   ]
  },
  {
   "cell_type": "code",
   "execution_count": null,
   "metadata": {},
   "outputs": [],
   "source": [
    "# Keep only the specified columns if they exist in the dataframe\n",
    "df_filtered = df.copy()      \n",
    "columns_to_keep = ['user_created', 'user_followers', 'date', 'text']\n",
    "df_filtered = df_filtered[columns_to_keep]\n",
    "filters = {\n",
    "    'user_created': lambda df: df['user_created'] < df['date'] - pd.Timedelta(days=30),\n",
    "    'user_followers': lambda df: df['user_followers'] > 1000\n",
    "}\n",
    "\n",
    "# Apply filters\n",
    "for col, condition in filters.items():\n",
    "    df_filtered = df_filtered[condition(df_filtered)]\n",
    "    \n",
    "df.to_csv(\"datasets/filtered_tweets.csv\", index=False)\n",
    "df_filtered"
   ]
  },
  {
   "cell_type": "code",
   "execution_count": null,
   "metadata": {},
   "outputs": [],
   "source": [
    "import re\n",
    "df_clean = df_filtered.copy()\n",
    "\n",
    "def clean_tweet(text):\n",
    "    text = re.sub(r\"http\\S+\", \"\", text)  # remove URLs\n",
    "    text = re.sub(r\"@\\w+\", \"\", text)     # remove mentions\n",
    "    text = re.sub(r\"#\", \"\", text)        # remove hashtag symbol\n",
    "    text = re.sub(r\"\\s+\", \" \", text).strip()  # remove extra spaces\n",
    "    return text\n",
    "\n",
    "df_clean['clean_text'] = df_clean['text'].astype(str).apply(clean_tweet)\n",
    "df_clean.drop(columns=['text'], inplace=True)  # drop original text column\n",
    "df_clean.to_csv(\"datasets/cleaned_tweets.csv\", index=False)\n",
    "df_clean"
   ]
  },
  {
   "cell_type": "code",
   "execution_count": null,
   "metadata": {},
   "outputs": [],
   "source": [
    "from transformers import AutoTokenizer, AutoModelForSequenceClassification\n",
    "from transformers import pipeline\n",
    "\n",
    "# Load FinBERT\n",
    "model = AutoModelForSequenceClassification.from_pretrained(\"yiyanghkust/finbert-tone\")\n",
    "tokenizer = AutoTokenizer.from_pretrained(\"yiyanghkust/finbert-tone\")\n",
    "finbert = pipeline(\"sentiment-analysis\", model=model, tokenizer=tokenizer)\n",
    "\n",
    "# Run on a sample\n",
    "df_clean['sentiment'] = df_clean['clean_text'].apply(lambda x: finbert(x[:512])[0]['label'])  # truncate to 512 tokens"
   ]
  },
  {
   "cell_type": "code",
   "execution_count": null,
   "metadata": {},
   "outputs": [],
   "source": [
    "df_sentiment = df_clean.copy()\n",
    "df_sentiment.to_csv(\"datasets/sentiment_tweets.csv\", index=False)"
   ]
  },
  {
   "cell_type": "code",
   "execution_count": null,
   "metadata": {},
   "outputs": [],
   "source": [
    "sentiment_score = {'Positive': 1, 'Neutral': 0, 'Negative': -1}\n",
    "df_clean['sentiment_score'] = df_clean['sentiment'].map(sentiment_score)\n",
    "\n",
    "# Aggregate sentiment per day\n",
    "hourly_sentiment = df_clean.groupby(df_clean['date'].dt.floor('h'))['sentiment_score'].mean().reset_index()\n",
    "hourly_sentiment.columns = ['date', 'avg_sentiment']\n",
    "\n",
    "hourly_sentiment"
   ]
  },
  {
   "cell_type": "code",
   "execution_count": null,
   "metadata": {},
   "outputs": [],
   "source": [
    "import yfinance as yf\n",
    "\n",
    "# Load BTC data from yfinance\n",
    "btc = yf.download(\"BTC-USD\", start=\"2021-01-01\", end=\"2021-12-31\")\n",
    "btc = btc[['Close']].reset_index()\n",
    "btc.columns = ['date', 'btc_close']\n",
    "\n",
    "# Merge sentiment with price\n",
    "btc['date'] = pd.to_datetime(btc['date'])  # Convert 'date' column to datetime\n",
    "merged = pd.merge(hourly_sentiment, btc, on='date', how='inner')\n",
    "\n",
    "# Calculate daily return\n",
    "merged['btc_return'] = merged['btc_close'].pct_change()"
   ]
  },
  {
   "cell_type": "code",
   "execution_count": null,
   "metadata": {},
   "outputs": [],
   "source": [
    "import yfinance as yf\n",
    "import pandas as pd\n",
    "import plotly.graph_objects as go\n",
    "\n",
    "# Load BTC data from yfinance\n",
    "btc = yf.download(\"BTC-USD\", start=\"2021-01-01\", end=\"2021-12-31\")\n",
    "btc = btc[['Open', 'High', 'Low', 'Close']].reset_index()\n",
    "btc.columns = ['date', 'btc_open', 'btc_high', 'btc_low', 'btc_close']\n",
    "\n",
    "# Merge sentiment with price using df_clean to include the 'sentiment' column\n",
    "btc['date'] = pd.to_datetime(btc['date'])  # Convert 'date' column to datetime\n",
    "merged = pd.merge(df_clean[['date', 'sentiment']], btc, on='date', how='inner')\n",
    "\n",
    "# Calculate daily return\n",
    "merged['btc_return'] = merged['btc_close'].pct_change()\n",
    "\n",
    "# Create the candlestick chart\n",
    "fig = go.Figure(data=[go.Candlestick(\n",
    "    x=merged['date'],\n",
    "    open=merged['btc_open'],\n",
    "    high=merged['btc_high'],\n",
    "    low=merged['btc_low'],\n",
    "    close=merged['btc_close'],\n",
    "    name='BTC Price',\n",
    "    increasing_line_color='green', decreasing_line_color='red',\n",
    ")])\n",
    "\n",
    "# Add sentiment line (you can adjust this for how you want sentiment displayed)\n",
    "fig.add_trace(go.Scatter(\n",
    "    x=merged['date'],\n",
    "    y=merged['sentiment'].apply(lambda x: 1 if x == 'POSITIVE' else (-1 if x == 'NEGATIVE' else 0)),  # Map sentiment to numerical values for plotting\n",
    "    mode='markers',\n",
    "    name='Sentiment',\n",
    "    marker=dict(color='blue', size=5)\n",
    "))\n",
    "\n",
    "# Layout updates for better visibility\n",
    "fig.update_layout(\n",
    "    title=\"Bitcoin Price and Sentiment Analysis\",\n",
    "    xaxis_title=\"Date\",\n",
    "    yaxis_title=\"Price (USD)\",\n",
    "    xaxis_rangeslider_visible=False,\n",
    "    template=\"plotly_dark\",\n",
    ")\n",
    "\n",
    "fig.show()"
   ]
  },
  {
   "cell_type": "code",
   "execution_count": null,
   "metadata": {},
   "outputs": [],
   "source": [
    "merged"
   ]
  },
  {
   "cell_type": "code",
   "execution_count": null,
   "metadata": {},
   "outputs": [],
   "source": [
    "correlation = merged[['avg_sentiment', 'btc_return']].corr().iloc[0,1]\n",
    "print(f\"Correlation between sentiment and return: {correlation:.4f}\")"
   ]
  },
  {
   "cell_type": "code",
   "execution_count": null,
   "metadata": {},
   "outputs": [
    {
     "data": {
      "text/html": [
       "<div>\n",
       "<style scoped>\n",
       "    .dataframe tbody tr th:only-of-type {\n",
       "        vertical-align: middle;\n",
       "    }\n",
       "\n",
       "    .dataframe tbody tr th {\n",
       "        vertical-align: top;\n",
       "    }\n",
       "\n",
       "    .dataframe thead th {\n",
       "        text-align: right;\n",
       "    }\n",
       "</style>\n",
       "<table border=\"1\" class=\"dataframe\">\n",
       "  <thead>\n",
       "    <tr style=\"text-align: right;\">\n",
       "      <th></th>\n",
       "      <th>user_created</th>\n",
       "      <th>user_followers</th>\n",
       "      <th>date</th>\n",
       "      <th>text</th>\n",
       "    </tr>\n",
       "  </thead>\n",
       "  <tbody>\n",
       "    <tr>\n",
       "      <th>0</th>\n",
       "      <td>2009-04-26 20:05:09</td>\n",
       "      <td>8534</td>\n",
       "      <td>2021-02-10 23:59:04</td>\n",
       "      <td>Blue Ridge Bank shares halted by NYSE after #b...</td>\n",
       "    </tr>\n",
       "    <tr>\n",
       "      <th>1</th>\n",
       "      <td>2019-10-17 20:12:10</td>\n",
       "      <td>6769</td>\n",
       "      <td>2021-02-10 23:58:48</td>\n",
       "      <td>😎 Today, that's this #Thursday, we will do a \"...</td>\n",
       "    </tr>\n",
       "    <tr>\n",
       "      <th>4</th>\n",
       "      <td>2016-02-03 13:15:55</td>\n",
       "      <td>1249</td>\n",
       "      <td>2021-02-10 23:54:06</td>\n",
       "      <td>This network is secured by 9 508 nodes as of t...</td>\n",
       "    </tr>\n",
       "    <tr>\n",
       "      <th>7</th>\n",
       "      <td>2018-08-03 21:30:08</td>\n",
       "      <td>4052</td>\n",
       "      <td>2021-02-10 23:52:42</td>\n",
       "      <td>🔄 Prices update in $EUR (1 hour):\\n\\n$BTC   - ...</td>\n",
       "    </tr>\n",
       "    <tr>\n",
       "      <th>9</th>\n",
       "      <td>2009-04-26 20:05:09</td>\n",
       "      <td>8534</td>\n",
       "      <td>2021-02-10 23:52:08</td>\n",
       "      <td>.@Tesla’s #bitcoin investment is revolutionary...</td>\n",
       "    </tr>\n",
       "    <tr>\n",
       "      <th>...</th>\n",
       "      <td>...</td>\n",
       "      <td>...</td>\n",
       "      <td>...</td>\n",
       "      <td>...</td>\n",
       "    </tr>\n",
       "    <tr>\n",
       "      <th>48559</th>\n",
       "      <td>2018-05-25 21:11:08</td>\n",
       "      <td>3255</td>\n",
       "      <td>2021-03-11 22:38:25</td>\n",
       "      <td>🔄 Prices update in $USD (1 hour):\\n\\n$BTC - 57...</td>\n",
       "    </tr>\n",
       "    <tr>\n",
       "      <th>48566</th>\n",
       "      <td>2017-01-01 03:36:19</td>\n",
       "      <td>1891</td>\n",
       "      <td>2021-03-11 22:35:29</td>\n",
       "      <td>#Bitcoin reversed yesterday's weakness to fini...</td>\n",
       "    </tr>\n",
       "    <tr>\n",
       "      <th>48571</th>\n",
       "      <td>2018-05-13 04:06:51</td>\n",
       "      <td>2415</td>\n",
       "      <td>2021-03-11 22:32:42</td>\n",
       "      <td>Goldman Sachs Evaluates #Bitcoin as Client Dem...</td>\n",
       "    </tr>\n",
       "    <tr>\n",
       "      <th>48575</th>\n",
       "      <td>2012-11-03 22:31:45</td>\n",
       "      <td>12014</td>\n",
       "      <td>2021-03-11 22:31:36</td>\n",
       "      <td>#Bitcoin Big Double pay again!!! Once it hit $...</td>\n",
       "    </tr>\n",
       "    <tr>\n",
       "      <th>48578</th>\n",
       "      <td>2010-03-15 03:38:08</td>\n",
       "      <td>2787</td>\n",
       "      <td>2021-03-11 22:30:23</td>\n",
       "      <td>Bill Gates advised against investing in #Bitco...</td>\n",
       "    </tr>\n",
       "  </tbody>\n",
       "</table>\n",
       "<p>18014 rows × 4 columns</p>\n",
       "</div>"
      ],
      "text/plain": [
       "              user_created  user_followers                date  \\\n",
       "0      2009-04-26 20:05:09            8534 2021-02-10 23:59:04   \n",
       "1      2019-10-17 20:12:10            6769 2021-02-10 23:58:48   \n",
       "4      2016-02-03 13:15:55            1249 2021-02-10 23:54:06   \n",
       "7      2018-08-03 21:30:08            4052 2021-02-10 23:52:42   \n",
       "9      2009-04-26 20:05:09            8534 2021-02-10 23:52:08   \n",
       "...                    ...             ...                 ...   \n",
       "48559  2018-05-25 21:11:08            3255 2021-03-11 22:38:25   \n",
       "48566  2017-01-01 03:36:19            1891 2021-03-11 22:35:29   \n",
       "48571  2018-05-13 04:06:51            2415 2021-03-11 22:32:42   \n",
       "48575  2012-11-03 22:31:45           12014 2021-03-11 22:31:36   \n",
       "48578  2010-03-15 03:38:08            2787 2021-03-11 22:30:23   \n",
       "\n",
       "                                                    text  \n",
       "0      Blue Ridge Bank shares halted by NYSE after #b...  \n",
       "1      😎 Today, that's this #Thursday, we will do a \"...  \n",
       "4      This network is secured by 9 508 nodes as of t...  \n",
       "7      🔄 Prices update in $EUR (1 hour):\\n\\n$BTC   - ...  \n",
       "9      .@Tesla’s #bitcoin investment is revolutionary...  \n",
       "...                                                  ...  \n",
       "48559  🔄 Prices update in $USD (1 hour):\\n\\n$BTC - 57...  \n",
       "48566  #Bitcoin reversed yesterday's weakness to fini...  \n",
       "48571  Goldman Sachs Evaluates #Bitcoin as Client Dem...  \n",
       "48575  #Bitcoin Big Double pay again!!! Once it hit $...  \n",
       "48578  Bill Gates advised against investing in #Bitco...  \n",
       "\n",
       "[18014 rows x 4 columns]"
      ]
     },
     "execution_count": 2,
     "metadata": {},
     "output_type": "execute_result"
    }
   ],
   "source": [
    "# Keep only the specified columns if they exist in the dataframe\n",
    "df_filtered = df.copy()      \n",
    "columns_to_keep = ['user_created', 'user_followers', 'date', 'text']\n",
    "df_filtered = df_filtered[columns_to_keep]\n",
    "filters = {\n",
    "    'user_created': lambda df: df['user_created'] < df['date'] - pd.Timedelta(days=30),\n",
    "    'user_followers': lambda df: df['user_followers'] > 1000\n",
    "}\n",
    "\n",
    "# Apply filters\n",
    "for col, condition in filters.items():\n",
    "    df_filtered = df_filtered[condition(df_filtered)]\n",
    "    \n",
    "df.to_csv(\"datasets/filtered_tweets.csv\", index=False)\n",
    "df_filtered"
   ]
  },
  {
   "cell_type": "code",
   "execution_count": null,
   "metadata": {},
   "outputs": [
    {
     "data": {
      "text/html": [
       "<div>\n",
       "<style scoped>\n",
       "    .dataframe tbody tr th:only-of-type {\n",
       "        vertical-align: middle;\n",
       "    }\n",
       "\n",
       "    .dataframe tbody tr th {\n",
       "        vertical-align: top;\n",
       "    }\n",
       "\n",
       "    .dataframe thead th {\n",
       "        text-align: right;\n",
       "    }\n",
       "</style>\n",
       "<table border=\"1\" class=\"dataframe\">\n",
       "  <thead>\n",
       "    <tr style=\"text-align: right;\">\n",
       "      <th></th>\n",
       "      <th>user_created</th>\n",
       "      <th>user_followers</th>\n",
       "      <th>date</th>\n",
       "      <th>clean_text</th>\n",
       "    </tr>\n",
       "  </thead>\n",
       "  <tbody>\n",
       "    <tr>\n",
       "      <th>0</th>\n",
       "      <td>2009-04-26 20:05:09</td>\n",
       "      <td>8534</td>\n",
       "      <td>2021-02-10 23:59:04</td>\n",
       "      <td>Blue Ridge Bank shares halted by NYSE after bi...</td>\n",
       "    </tr>\n",
       "    <tr>\n",
       "      <th>1</th>\n",
       "      <td>2019-10-17 20:12:10</td>\n",
       "      <td>6769</td>\n",
       "      <td>2021-02-10 23:58:48</td>\n",
       "      <td>😎 Today, that's this Thursday, we will do a \"🎬...</td>\n",
       "    </tr>\n",
       "    <tr>\n",
       "      <th>4</th>\n",
       "      <td>2016-02-03 13:15:55</td>\n",
       "      <td>1249</td>\n",
       "      <td>2021-02-10 23:54:06</td>\n",
       "      <td>This network is secured by 9 508 nodes as of t...</td>\n",
       "    </tr>\n",
       "    <tr>\n",
       "      <th>7</th>\n",
       "      <td>2018-08-03 21:30:08</td>\n",
       "      <td>4052</td>\n",
       "      <td>2021-02-10 23:52:42</td>\n",
       "      <td>🔄 Prices update in $EUR (1 hour): $BTC - 37082...</td>\n",
       "    </tr>\n",
       "    <tr>\n",
       "      <th>9</th>\n",
       "      <td>2009-04-26 20:05:09</td>\n",
       "      <td>8534</td>\n",
       "      <td>2021-02-10 23:52:08</td>\n",
       "      <td>.’s bitcoin investment is revolutionary for cr...</td>\n",
       "    </tr>\n",
       "    <tr>\n",
       "      <th>...</th>\n",
       "      <td>...</td>\n",
       "      <td>...</td>\n",
       "      <td>...</td>\n",
       "      <td>...</td>\n",
       "    </tr>\n",
       "    <tr>\n",
       "      <th>48559</th>\n",
       "      <td>2018-05-25 21:11:08</td>\n",
       "      <td>3255</td>\n",
       "      <td>2021-03-11 22:38:25</td>\n",
       "      <td>🔄 Prices update in $USD (1 hour): $BTC - 57800...</td>\n",
       "    </tr>\n",
       "    <tr>\n",
       "      <th>48566</th>\n",
       "      <td>2017-01-01 03:36:19</td>\n",
       "      <td>1891</td>\n",
       "      <td>2021-03-11 22:35:29</td>\n",
       "      <td>Bitcoin reversed yesterday's weakness to finis...</td>\n",
       "    </tr>\n",
       "    <tr>\n",
       "      <th>48571</th>\n",
       "      <td>2018-05-13 04:06:51</td>\n",
       "      <td>2415</td>\n",
       "      <td>2021-03-11 22:32:42</td>\n",
       "      <td>Goldman Sachs Evaluates Bitcoin as Client Dema...</td>\n",
       "    </tr>\n",
       "    <tr>\n",
       "      <th>48575</th>\n",
       "      <td>2012-11-03 22:31:45</td>\n",
       "      <td>12014</td>\n",
       "      <td>2021-03-11 22:31:36</td>\n",
       "      <td>Bitcoin Big Double pay again!!! Once it hit $5...</td>\n",
       "    </tr>\n",
       "    <tr>\n",
       "      <th>48578</th>\n",
       "      <td>2010-03-15 03:38:08</td>\n",
       "      <td>2787</td>\n",
       "      <td>2021-03-11 22:30:23</td>\n",
       "      <td>Bill Gates advised against investing in Bitcoi...</td>\n",
       "    </tr>\n",
       "  </tbody>\n",
       "</table>\n",
       "<p>18014 rows × 4 columns</p>\n",
       "</div>"
      ],
      "text/plain": [
       "              user_created  user_followers                date  \\\n",
       "0      2009-04-26 20:05:09            8534 2021-02-10 23:59:04   \n",
       "1      2019-10-17 20:12:10            6769 2021-02-10 23:58:48   \n",
       "4      2016-02-03 13:15:55            1249 2021-02-10 23:54:06   \n",
       "7      2018-08-03 21:30:08            4052 2021-02-10 23:52:42   \n",
       "9      2009-04-26 20:05:09            8534 2021-02-10 23:52:08   \n",
       "...                    ...             ...                 ...   \n",
       "48559  2018-05-25 21:11:08            3255 2021-03-11 22:38:25   \n",
       "48566  2017-01-01 03:36:19            1891 2021-03-11 22:35:29   \n",
       "48571  2018-05-13 04:06:51            2415 2021-03-11 22:32:42   \n",
       "48575  2012-11-03 22:31:45           12014 2021-03-11 22:31:36   \n",
       "48578  2010-03-15 03:38:08            2787 2021-03-11 22:30:23   \n",
       "\n",
       "                                              clean_text  \n",
       "0      Blue Ridge Bank shares halted by NYSE after bi...  \n",
       "1      😎 Today, that's this Thursday, we will do a \"🎬...  \n",
       "4      This network is secured by 9 508 nodes as of t...  \n",
       "7      🔄 Prices update in $EUR (1 hour): $BTC - 37082...  \n",
       "9      .’s bitcoin investment is revolutionary for cr...  \n",
       "...                                                  ...  \n",
       "48559  🔄 Prices update in $USD (1 hour): $BTC - 57800...  \n",
       "48566  Bitcoin reversed yesterday's weakness to finis...  \n",
       "48571  Goldman Sachs Evaluates Bitcoin as Client Dema...  \n",
       "48575  Bitcoin Big Double pay again!!! Once it hit $5...  \n",
       "48578  Bill Gates advised against investing in Bitcoi...  \n",
       "\n",
       "[18014 rows x 4 columns]"
      ]
     },
     "execution_count": 3,
     "metadata": {},
     "output_type": "execute_result"
    }
   ],
   "source": [
    "import re\n",
    "df_clean = df_filtered.copy()\n",
    "\n",
    "def clean_tweet(text):\n",
    "    text = re.sub(r\"http\\S+\", \"\", text)  # remove URLs\n",
    "    text = re.sub(r\"@\\w+\", \"\", text)     # remove mentions\n",
    "    text = re.sub(r\"#\", \"\", text)        # remove hashtag symbol\n",
    "    text = re.sub(r\"\\s+\", \" \", text).strip()  # remove extra spaces\n",
    "    return text\n",
    "\n",
    "df_clean['clean_text'] = df_clean['text'].astype(str).apply(clean_tweet)\n",
    "df_clean.drop(columns=['text'], inplace=True)  # drop original text column\n",
    "df_clean.to_csv(\"datasets/cleaned_tweets.csv\", index=False)\n",
    "df_clean"
   ]
  },
  {
   "cell_type": "code",
   "execution_count": null,
   "metadata": {},
   "outputs": [
    {
     "name": "stderr",
     "output_type": "stream",
     "text": [
      "c:\\Users\\shefs\\AppData\\Local\\Programs\\Python\\Python312\\Lib\\site-packages\\tqdm\\auto.py:21: TqdmWarning: IProgress not found. Please update jupyter and ipywidgets. See https://ipywidgets.readthedocs.io/en/stable/user_install.html\n",
      "  from .autonotebook import tqdm as notebook_tqdm\n",
      "Device set to use cpu\n"
     ]
    }
   ],
   "source": [
    "from transformers import AutoTokenizer, AutoModelForSequenceClassification\n",
    "from transformers import pipeline\n",
    "\n",
    "# Load FinBERT\n",
    "model = AutoModelForSequenceClassification.from_pretrained(\"yiyanghkust/finbert-tone\")\n",
    "tokenizer = AutoTokenizer.from_pretrained(\"yiyanghkust/finbert-tone\")\n",
    "finbert = pipeline(\"sentiment-analysis\", model=model, tokenizer=tokenizer)\n",
    "\n",
    "# Run on a sample\n",
    "df_clean['sentiment'] = df_clean['clean_text'].apply(lambda x: finbert(x[:512])[0]['label'])  # truncate to 512 tokens"
   ]
  },
  {
   "cell_type": "code",
   "execution_count": null,
   "metadata": {},
   "outputs": [],
   "source": [
    "df_sentiment = df_clean.copy()\n",
    "df_sentiment.to_csv(\"datasets/sentiment_tweets.csv\", index=False)"
   ]
  },
  {
   "cell_type": "code",
   "execution_count": null,
   "metadata": {},
   "outputs": [
    {
     "data": {
      "text/html": [
       "<div>\n",
       "<style scoped>\n",
       "    .dataframe tbody tr th:only-of-type {\n",
       "        vertical-align: middle;\n",
       "    }\n",
       "\n",
       "    .dataframe tbody tr th {\n",
       "        vertical-align: top;\n",
       "    }\n",
       "\n",
       "    .dataframe thead th {\n",
       "        text-align: right;\n",
       "    }\n",
       "</style>\n",
       "<table border=\"1\" class=\"dataframe\">\n",
       "  <thead>\n",
       "    <tr style=\"text-align: right;\">\n",
       "      <th></th>\n",
       "      <th>date</th>\n",
       "      <th>avg_sentiment</th>\n",
       "    </tr>\n",
       "  </thead>\n",
       "  <tbody>\n",
       "    <tr>\n",
       "      <th>0</th>\n",
       "      <td>2021-02-05 10:00:00</td>\n",
       "      <td>0.000000</td>\n",
       "    </tr>\n",
       "    <tr>\n",
       "      <th>1</th>\n",
       "      <td>2021-02-05 11:00:00</td>\n",
       "      <td>-0.025641</td>\n",
       "    </tr>\n",
       "    <tr>\n",
       "      <th>2</th>\n",
       "      <td>2021-02-05 12:00:00</td>\n",
       "      <td>0.125000</td>\n",
       "    </tr>\n",
       "    <tr>\n",
       "      <th>3</th>\n",
       "      <td>2021-02-05 13:00:00</td>\n",
       "      <td>0.132075</td>\n",
       "    </tr>\n",
       "    <tr>\n",
       "      <th>4</th>\n",
       "      <td>2021-02-05 14:00:00</td>\n",
       "      <td>0.016949</td>\n",
       "    </tr>\n",
       "    <tr>\n",
       "      <th>...</th>\n",
       "      <td>...</td>\n",
       "      <td>...</td>\n",
       "    </tr>\n",
       "    <tr>\n",
       "      <th>287</th>\n",
       "      <td>2021-03-12 19:00:00</td>\n",
       "      <td>0.080645</td>\n",
       "    </tr>\n",
       "    <tr>\n",
       "      <th>288</th>\n",
       "      <td>2021-03-12 20:00:00</td>\n",
       "      <td>0.080000</td>\n",
       "    </tr>\n",
       "    <tr>\n",
       "      <th>289</th>\n",
       "      <td>2021-03-12 21:00:00</td>\n",
       "      <td>0.020833</td>\n",
       "    </tr>\n",
       "    <tr>\n",
       "      <th>290</th>\n",
       "      <td>2021-03-12 22:00:00</td>\n",
       "      <td>0.000000</td>\n",
       "    </tr>\n",
       "    <tr>\n",
       "      <th>291</th>\n",
       "      <td>2021-03-12 23:00:00</td>\n",
       "      <td>0.043478</td>\n",
       "    </tr>\n",
       "  </tbody>\n",
       "</table>\n",
       "<p>292 rows × 2 columns</p>\n",
       "</div>"
      ],
      "text/plain": [
       "                   date  avg_sentiment\n",
       "0   2021-02-05 10:00:00       0.000000\n",
       "1   2021-02-05 11:00:00      -0.025641\n",
       "2   2021-02-05 12:00:00       0.125000\n",
       "3   2021-02-05 13:00:00       0.132075\n",
       "4   2021-02-05 14:00:00       0.016949\n",
       "..                  ...            ...\n",
       "287 2021-03-12 19:00:00       0.080645\n",
       "288 2021-03-12 20:00:00       0.080000\n",
       "289 2021-03-12 21:00:00       0.020833\n",
       "290 2021-03-12 22:00:00       0.000000\n",
       "291 2021-03-12 23:00:00       0.043478\n",
       "\n",
       "[292 rows x 2 columns]"
      ]
     },
     "execution_count": 6,
     "metadata": {},
     "output_type": "execute_result"
    }
   ],
   "source": [
    "sentiment_score = {'Positive': 1, 'Neutral': 0, 'Negative': -1}\n",
    "df_clean['sentiment_score'] = df_clean['sentiment'].map(sentiment_score)\n",
    "\n",
    "# Aggregate sentiment per day\n",
    "hourly_sentiment = df_clean.groupby(df_clean['date'].dt.floor('h'))['sentiment_score'].mean().reset_index()\n",
    "hourly_sentiment.columns = ['date', 'avg_sentiment']\n",
    "\n",
    "hourly_sentiment"
   ]
  },
  {
   "cell_type": "code",
   "execution_count": null,
   "metadata": {},
   "outputs": [
    {
     "name": "stdout",
     "output_type": "stream",
     "text": [
      "YF.download() has changed argument auto_adjust default to True\n"
     ]
    },
    {
     "name": "stderr",
     "output_type": "stream",
     "text": [
      "[*********************100%***********************]  1 of 1 completed\n"
     ]
    }
   ],
   "source": [
    "import yfinance as yf\n",
    "\n",
    "# Load BTC data from yfinance\n",
    "btc = yf.download(\"BTC-USD\", start=\"2021-01-01\", end=\"2021-12-31\")\n",
    "btc = btc[['Close']].reset_index()\n",
    "btc.columns = ['date', 'btc_close']\n",
    "\n",
    "# Merge sentiment with price\n",
    "btc['date'] = pd.to_datetime(btc['date'])  # Convert 'date' column to datetime\n",
    "merged = pd.merge(hourly_sentiment, btc, on='date', how='inner')\n",
    "\n",
    "# Calculate daily return\n",
    "merged['btc_return'] = merged['btc_close'].pct_change()"
   ]
  },
  {
   "cell_type": "code",
   "execution_count": null,
   "metadata": {},
   "outputs": [
    {
     "name": "stderr",
     "output_type": "stream",
     "text": [
      "[*********************100%***********************]  1 of 1 completed\n"
     ]
    },
    {
     "data": {
      "application/vnd.plotly.v1+json": {
       "config": {
        "plotlyServerURL": "https://plot.ly"
       },
       "data": [
        {
         "close": [],
         "decreasing": {
          "line": {
           "color": "red"
          }
         },
         "high": [],
         "increasing": {
          "line": {
           "color": "green"
          }
         },
         "low": [],
         "name": "BTC Price",
         "open": [],
         "type": "candlestick",
         "x": []
        },
        {
         "marker": {
          "color": "blue",
          "size": 5
         },
         "mode": "markers",
         "name": "Sentiment",
         "type": "scatter",
         "x": [],
         "y": []
        }
       ],
       "layout": {
        "template": {
         "data": {
          "bar": [
           {
            "error_x": {
             "color": "#f2f5fa"
            },
            "error_y": {
             "color": "#f2f5fa"
            },
            "marker": {
             "line": {
              "color": "rgb(17,17,17)",
              "width": 0.5
             },
             "pattern": {
              "fillmode": "overlay",
              "size": 10,
              "solidity": 0.2
             }
            },
            "type": "bar"
           }
          ],
          "barpolar": [
           {
            "marker": {
             "line": {
              "color": "rgb(17,17,17)",
              "width": 0.5
             },
             "pattern": {
              "fillmode": "overlay",
              "size": 10,
              "solidity": 0.2
             }
            },
            "type": "barpolar"
           }
          ],
          "carpet": [
           {
            "aaxis": {
             "endlinecolor": "#A2B1C6",
             "gridcolor": "#506784",
             "linecolor": "#506784",
             "minorgridcolor": "#506784",
             "startlinecolor": "#A2B1C6"
            },
            "baxis": {
             "endlinecolor": "#A2B1C6",
             "gridcolor": "#506784",
             "linecolor": "#506784",
             "minorgridcolor": "#506784",
             "startlinecolor": "#A2B1C6"
            },
            "type": "carpet"
           }
          ],
          "choropleth": [
           {
            "colorbar": {
             "outlinewidth": 0,
             "ticks": ""
            },
            "type": "choropleth"
           }
          ],
          "contour": [
           {
            "colorbar": {
             "outlinewidth": 0,
             "ticks": ""
            },
            "colorscale": [
             [
              0,
              "#0d0887"
             ],
             [
              0.1111111111111111,
              "#46039f"
             ],
             [
              0.2222222222222222,
              "#7201a8"
             ],
             [
              0.3333333333333333,
              "#9c179e"
             ],
             [
              0.4444444444444444,
              "#bd3786"
             ],
             [
              0.5555555555555556,
              "#d8576b"
             ],
             [
              0.6666666666666666,
              "#ed7953"
             ],
             [
              0.7777777777777778,
              "#fb9f3a"
             ],
             [
              0.8888888888888888,
              "#fdca26"
             ],
             [
              1,
              "#f0f921"
             ]
            ],
            "type": "contour"
           }
          ],
          "contourcarpet": [
           {
            "colorbar": {
             "outlinewidth": 0,
             "ticks": ""
            },
            "type": "contourcarpet"
           }
          ],
          "heatmap": [
           {
            "colorbar": {
             "outlinewidth": 0,
             "ticks": ""
            },
            "colorscale": [
             [
              0,
              "#0d0887"
             ],
             [
              0.1111111111111111,
              "#46039f"
             ],
             [
              0.2222222222222222,
              "#7201a8"
             ],
             [
              0.3333333333333333,
              "#9c179e"
             ],
             [
              0.4444444444444444,
              "#bd3786"
             ],
             [
              0.5555555555555556,
              "#d8576b"
             ],
             [
              0.6666666666666666,
              "#ed7953"
             ],
             [
              0.7777777777777778,
              "#fb9f3a"
             ],
             [
              0.8888888888888888,
              "#fdca26"
             ],
             [
              1,
              "#f0f921"
             ]
            ],
            "type": "heatmap"
           }
          ],
          "histogram": [
           {
            "marker": {
             "pattern": {
              "fillmode": "overlay",
              "size": 10,
              "solidity": 0.2
             }
            },
            "type": "histogram"
           }
          ],
          "histogram2d": [
           {
            "colorbar": {
             "outlinewidth": 0,
             "ticks": ""
            },
            "colorscale": [
             [
              0,
              "#0d0887"
             ],
             [
              0.1111111111111111,
              "#46039f"
             ],
             [
              0.2222222222222222,
              "#7201a8"
             ],
             [
              0.3333333333333333,
              "#9c179e"
             ],
             [
              0.4444444444444444,
              "#bd3786"
             ],
             [
              0.5555555555555556,
              "#d8576b"
             ],
             [
              0.6666666666666666,
              "#ed7953"
             ],
             [
              0.7777777777777778,
              "#fb9f3a"
             ],
             [
              0.8888888888888888,
              "#fdca26"
             ],
             [
              1,
              "#f0f921"
             ]
            ],
            "type": "histogram2d"
           }
          ],
          "histogram2dcontour": [
           {
            "colorbar": {
             "outlinewidth": 0,
             "ticks": ""
            },
            "colorscale": [
             [
              0,
              "#0d0887"
             ],
             [
              0.1111111111111111,
              "#46039f"
             ],
             [
              0.2222222222222222,
              "#7201a8"
             ],
             [
              0.3333333333333333,
              "#9c179e"
             ],
             [
              0.4444444444444444,
              "#bd3786"
             ],
             [
              0.5555555555555556,
              "#d8576b"
             ],
             [
              0.6666666666666666,
              "#ed7953"
             ],
             [
              0.7777777777777778,
              "#fb9f3a"
             ],
             [
              0.8888888888888888,
              "#fdca26"
             ],
             [
              1,
              "#f0f921"
             ]
            ],
            "type": "histogram2dcontour"
           }
          ],
          "mesh3d": [
           {
            "colorbar": {
             "outlinewidth": 0,
             "ticks": ""
            },
            "type": "mesh3d"
           }
          ],
          "parcoords": [
           {
            "line": {
             "colorbar": {
              "outlinewidth": 0,
              "ticks": ""
             }
            },
            "type": "parcoords"
           }
          ],
          "pie": [
           {
            "automargin": true,
            "type": "pie"
           }
          ],
          "scatter": [
           {
            "marker": {
             "line": {
              "color": "#283442"
             }
            },
            "type": "scatter"
           }
          ],
          "scatter3d": [
           {
            "line": {
             "colorbar": {
              "outlinewidth": 0,
              "ticks": ""
             }
            },
            "marker": {
             "colorbar": {
              "outlinewidth": 0,
              "ticks": ""
             }
            },
            "type": "scatter3d"
           }
          ],
          "scattercarpet": [
           {
            "marker": {
             "colorbar": {
              "outlinewidth": 0,
              "ticks": ""
             }
            },
            "type": "scattercarpet"
           }
          ],
          "scattergeo": [
           {
            "marker": {
             "colorbar": {
              "outlinewidth": 0,
              "ticks": ""
             }
            },
            "type": "scattergeo"
           }
          ],
          "scattergl": [
           {
            "marker": {
             "line": {
              "color": "#283442"
             }
            },
            "type": "scattergl"
           }
          ],
          "scattermap": [
           {
            "marker": {
             "colorbar": {
              "outlinewidth": 0,
              "ticks": ""
             }
            },
            "type": "scattermap"
           }
          ],
          "scattermapbox": [
           {
            "marker": {
             "colorbar": {
              "outlinewidth": 0,
              "ticks": ""
             }
            },
            "type": "scattermapbox"
           }
          ],
          "scatterpolar": [
           {
            "marker": {
             "colorbar": {
              "outlinewidth": 0,
              "ticks": ""
             }
            },
            "type": "scatterpolar"
           }
          ],
          "scatterpolargl": [
           {
            "marker": {
             "colorbar": {
              "outlinewidth": 0,
              "ticks": ""
             }
            },
            "type": "scatterpolargl"
           }
          ],
          "scatterternary": [
           {
            "marker": {
             "colorbar": {
              "outlinewidth": 0,
              "ticks": ""
             }
            },
            "type": "scatterternary"
           }
          ],
          "surface": [
           {
            "colorbar": {
             "outlinewidth": 0,
             "ticks": ""
            },
            "colorscale": [
             [
              0,
              "#0d0887"
             ],
             [
              0.1111111111111111,
              "#46039f"
             ],
             [
              0.2222222222222222,
              "#7201a8"
             ],
             [
              0.3333333333333333,
              "#9c179e"
             ],
             [
              0.4444444444444444,
              "#bd3786"
             ],
             [
              0.5555555555555556,
              "#d8576b"
             ],
             [
              0.6666666666666666,
              "#ed7953"
             ],
             [
              0.7777777777777778,
              "#fb9f3a"
             ],
             [
              0.8888888888888888,
              "#fdca26"
             ],
             [
              1,
              "#f0f921"
             ]
            ],
            "type": "surface"
           }
          ],
          "table": [
           {
            "cells": {
             "fill": {
              "color": "#506784"
             },
             "line": {
              "color": "rgb(17,17,17)"
             }
            },
            "header": {
             "fill": {
              "color": "#2a3f5f"
             },
             "line": {
              "color": "rgb(17,17,17)"
             }
            },
            "type": "table"
           }
          ]
         },
         "layout": {
          "annotationdefaults": {
           "arrowcolor": "#f2f5fa",
           "arrowhead": 0,
           "arrowwidth": 1
          },
          "autotypenumbers": "strict",
          "coloraxis": {
           "colorbar": {
            "outlinewidth": 0,
            "ticks": ""
           }
          },
          "colorscale": {
           "diverging": [
            [
             0,
             "#8e0152"
            ],
            [
             0.1,
             "#c51b7d"
            ],
            [
             0.2,
             "#de77ae"
            ],
            [
             0.3,
             "#f1b6da"
            ],
            [
             0.4,
             "#fde0ef"
            ],
            [
             0.5,
             "#f7f7f7"
            ],
            [
             0.6,
             "#e6f5d0"
            ],
            [
             0.7,
             "#b8e186"
            ],
            [
             0.8,
             "#7fbc41"
            ],
            [
             0.9,
             "#4d9221"
            ],
            [
             1,
             "#276419"
            ]
           ],
           "sequential": [
            [
             0,
             "#0d0887"
            ],
            [
             0.1111111111111111,
             "#46039f"
            ],
            [
             0.2222222222222222,
             "#7201a8"
            ],
            [
             0.3333333333333333,
             "#9c179e"
            ],
            [
             0.4444444444444444,
             "#bd3786"
            ],
            [
             0.5555555555555556,
             "#d8576b"
            ],
            [
             0.6666666666666666,
             "#ed7953"
            ],
            [
             0.7777777777777778,
             "#fb9f3a"
            ],
            [
             0.8888888888888888,
             "#fdca26"
            ],
            [
             1,
             "#f0f921"
            ]
           ],
           "sequentialminus": [
            [
             0,
             "#0d0887"
            ],
            [
             0.1111111111111111,
             "#46039f"
            ],
            [
             0.2222222222222222,
             "#7201a8"
            ],
            [
             0.3333333333333333,
             "#9c179e"
            ],
            [
             0.4444444444444444,
             "#bd3786"
            ],
            [
             0.5555555555555556,
             "#d8576b"
            ],
            [
             0.6666666666666666,
             "#ed7953"
            ],
            [
             0.7777777777777778,
             "#fb9f3a"
            ],
            [
             0.8888888888888888,
             "#fdca26"
            ],
            [
             1,
             "#f0f921"
            ]
           ]
          },
          "colorway": [
           "#636efa",
           "#EF553B",
           "#00cc96",
           "#ab63fa",
           "#FFA15A",
           "#19d3f3",
           "#FF6692",
           "#B6E880",
           "#FF97FF",
           "#FECB52"
          ],
          "font": {
           "color": "#f2f5fa"
          },
          "geo": {
           "bgcolor": "rgb(17,17,17)",
           "lakecolor": "rgb(17,17,17)",
           "landcolor": "rgb(17,17,17)",
           "showlakes": true,
           "showland": true,
           "subunitcolor": "#506784"
          },
          "hoverlabel": {
           "align": "left"
          },
          "hovermode": "closest",
          "mapbox": {
           "style": "dark"
          },
          "paper_bgcolor": "rgb(17,17,17)",
          "plot_bgcolor": "rgb(17,17,17)",
          "polar": {
           "angularaxis": {
            "gridcolor": "#506784",
            "linecolor": "#506784",
            "ticks": ""
           },
           "bgcolor": "rgb(17,17,17)",
           "radialaxis": {
            "gridcolor": "#506784",
            "linecolor": "#506784",
            "ticks": ""
           }
          },
          "scene": {
           "xaxis": {
            "backgroundcolor": "rgb(17,17,17)",
            "gridcolor": "#506784",
            "gridwidth": 2,
            "linecolor": "#506784",
            "showbackground": true,
            "ticks": "",
            "zerolinecolor": "#C8D4E3"
           },
           "yaxis": {
            "backgroundcolor": "rgb(17,17,17)",
            "gridcolor": "#506784",
            "gridwidth": 2,
            "linecolor": "#506784",
            "showbackground": true,
            "ticks": "",
            "zerolinecolor": "#C8D4E3"
           },
           "zaxis": {
            "backgroundcolor": "rgb(17,17,17)",
            "gridcolor": "#506784",
            "gridwidth": 2,
            "linecolor": "#506784",
            "showbackground": true,
            "ticks": "",
            "zerolinecolor": "#C8D4E3"
           }
          },
          "shapedefaults": {
           "line": {
            "color": "#f2f5fa"
           }
          },
          "sliderdefaults": {
           "bgcolor": "#C8D4E3",
           "bordercolor": "rgb(17,17,17)",
           "borderwidth": 1,
           "tickwidth": 0
          },
          "ternary": {
           "aaxis": {
            "gridcolor": "#506784",
            "linecolor": "#506784",
            "ticks": ""
           },
           "baxis": {
            "gridcolor": "#506784",
            "linecolor": "#506784",
            "ticks": ""
           },
           "bgcolor": "rgb(17,17,17)",
           "caxis": {
            "gridcolor": "#506784",
            "linecolor": "#506784",
            "ticks": ""
           }
          },
          "title": {
           "x": 0.05
          },
          "updatemenudefaults": {
           "bgcolor": "#506784",
           "borderwidth": 0
          },
          "xaxis": {
           "automargin": true,
           "gridcolor": "#283442",
           "linecolor": "#506784",
           "ticks": "",
           "title": {
            "standoff": 15
           },
           "zerolinecolor": "#283442",
           "zerolinewidth": 2
          },
          "yaxis": {
           "automargin": true,
           "gridcolor": "#283442",
           "linecolor": "#506784",
           "ticks": "",
           "title": {
            "standoff": 15
           },
           "zerolinecolor": "#283442",
           "zerolinewidth": 2
          }
         }
        },
        "title": {
         "text": "Bitcoin Price and Sentiment Analysis"
        },
        "xaxis": {
         "rangeslider": {
          "visible": false
         },
         "title": {
          "text": "Date"
         }
        },
        "yaxis": {
         "title": {
          "text": "Price (USD)"
         }
        }
       }
      }
     },
     "metadata": {},
     "output_type": "display_data"
    }
   ],
   "source": [
    "import yfinance as yf\n",
    "import pandas as pd\n",
    "import plotly.graph_objects as go\n",
    "\n",
    "# Load BTC data from yfinance\n",
    "btc = yf.download(\"BTC-USD\", start=\"2021-01-01\", end=\"2021-12-31\")\n",
    "btc = btc[['Open', 'High', 'Low', 'Close']].reset_index()\n",
    "btc.columns = ['date', 'btc_open', 'btc_high', 'btc_low', 'btc_close']\n",
    "\n",
    "# Merge sentiment with price using df_clean to include the 'sentiment' column\n",
    "btc['date'] = pd.to_datetime(btc['date'])  # Convert 'date' column to datetime\n",
    "merged = pd.merge(df_clean[['date', 'sentiment']], btc, on='date', how='inner')\n",
    "\n",
    "# Calculate daily return\n",
    "merged['btc_return'] = merged['btc_close'].pct_change()\n",
    "\n",
    "# Create the candlestick chart\n",
    "fig = go.Figure(data=[go.Candlestick(\n",
    "    x=merged['date'],\n",
    "    open=merged['btc_open'],\n",
    "    high=merged['btc_high'],\n",
    "    low=merged['btc_low'],\n",
    "    close=merged['btc_close'],\n",
    "    name='BTC Price',\n",
    "    increasing_line_color='green', decreasing_line_color='red',\n",
    ")])\n",
    "\n",
    "# Add sentiment line (you can adjust this for how you want sentiment displayed)\n",
    "fig.add_trace(go.Scatter(\n",
    "    x=merged['date'],\n",
    "    y=merged['sentiment'].apply(lambda x: 1 if x == 'POSITIVE' else (-1 if x == 'NEGATIVE' else 0)),  # Map sentiment to numerical values for plotting\n",
    "    mode='markers',\n",
    "    name='Sentiment',\n",
    "    marker=dict(color='blue', size=5)\n",
    "))\n",
    "\n",
    "# Layout updates for better visibility\n",
    "fig.update_layout(\n",
    "    title=\"Bitcoin Price and Sentiment Analysis\",\n",
    "    xaxis_title=\"Date\",\n",
    "    yaxis_title=\"Price (USD)\",\n",
    "    xaxis_rangeslider_visible=False,\n",
    "    template=\"plotly_dark\",\n",
    ")\n",
    "\n",
    "fig.show()"
   ]
  },
  {
   "cell_type": "code",
   "execution_count": null,
   "metadata": {},
   "outputs": [
    {
     "data": {
      "text/html": [
       "<div>\n",
       "<style scoped>\n",
       "    .dataframe tbody tr th:only-of-type {\n",
       "        vertical-align: middle;\n",
       "    }\n",
       "\n",
       "    .dataframe tbody tr th {\n",
       "        vertical-align: top;\n",
       "    }\n",
       "\n",
       "    .dataframe thead th {\n",
       "        text-align: right;\n",
       "    }\n",
       "</style>\n",
       "<table border=\"1\" class=\"dataframe\">\n",
       "  <thead>\n",
       "    <tr style=\"text-align: right;\">\n",
       "      <th></th>\n",
       "      <th>date</th>\n",
       "      <th>sentiment</th>\n",
       "      <th>btc_open</th>\n",
       "      <th>btc_high</th>\n",
       "      <th>btc_low</th>\n",
       "      <th>btc_close</th>\n",
       "      <th>btc_return</th>\n",
       "    </tr>\n",
       "  </thead>\n",
       "  <tbody>\n",
       "  </tbody>\n",
       "</table>\n",
       "</div>"
      ],
      "text/plain": [
       "Empty DataFrame\n",
       "Columns: [date, sentiment, btc_open, btc_high, btc_low, btc_close, btc_return]\n",
       "Index: []"
      ]
     },
     "execution_count": 10,
     "metadata": {},
     "output_type": "execute_result"
    }
   ],
   "source": [
    "merged"
   ]
  },
  {
   "cell_type": "code",
   "execution_count": null,
   "metadata": {},
   "outputs": [
    {
     "ename": "KeyError",
     "evalue": "\"['avg_sentiment'] not in index\"",
     "output_type": "error",
     "traceback": [
      "\u001b[1;31m---------------------------------------------------------------------------\u001b[0m",
      "\u001b[1;31mKeyError\u001b[0m                                  Traceback (most recent call last)",
      "Cell \u001b[1;32mIn[9], line 1\u001b[0m\n\u001b[1;32m----> 1\u001b[0m correlation \u001b[38;5;241m=\u001b[39m \u001b[43mmerged\u001b[49m\u001b[43m[\u001b[49m\u001b[43m[\u001b[49m\u001b[38;5;124;43m'\u001b[39;49m\u001b[38;5;124;43mavg_sentiment\u001b[39;49m\u001b[38;5;124;43m'\u001b[39;49m\u001b[43m,\u001b[49m\u001b[43m \u001b[49m\u001b[38;5;124;43m'\u001b[39;49m\u001b[38;5;124;43mbtc_return\u001b[39;49m\u001b[38;5;124;43m'\u001b[39;49m\u001b[43m]\u001b[49m\u001b[43m]\u001b[49m\u001b[38;5;241m.\u001b[39mcorr()\u001b[38;5;241m.\u001b[39miloc[\u001b[38;5;241m0\u001b[39m,\u001b[38;5;241m1\u001b[39m]\n\u001b[0;32m      2\u001b[0m \u001b[38;5;28mprint\u001b[39m(\u001b[38;5;124mf\u001b[39m\u001b[38;5;124m\"\u001b[39m\u001b[38;5;124mCorrelation between sentiment and return: \u001b[39m\u001b[38;5;132;01m{\u001b[39;00mcorrelation\u001b[38;5;132;01m:\u001b[39;00m\u001b[38;5;124m.4f\u001b[39m\u001b[38;5;132;01m}\u001b[39;00m\u001b[38;5;124m\"\u001b[39m)\n",
      "File \u001b[1;32mc:\\Users\\shefs\\AppData\\Local\\Programs\\Python\\Python312\\Lib\\site-packages\\pandas\\core\\frame.py:4108\u001b[0m, in \u001b[0;36mDataFrame.__getitem__\u001b[1;34m(self, key)\u001b[0m\n\u001b[0;32m   4106\u001b[0m     \u001b[38;5;28;01mif\u001b[39;00m is_iterator(key):\n\u001b[0;32m   4107\u001b[0m         key \u001b[38;5;241m=\u001b[39m \u001b[38;5;28mlist\u001b[39m(key)\n\u001b[1;32m-> 4108\u001b[0m     indexer \u001b[38;5;241m=\u001b[39m \u001b[38;5;28;43mself\u001b[39;49m\u001b[38;5;241;43m.\u001b[39;49m\u001b[43mcolumns\u001b[49m\u001b[38;5;241;43m.\u001b[39;49m\u001b[43m_get_indexer_strict\u001b[49m\u001b[43m(\u001b[49m\u001b[43mkey\u001b[49m\u001b[43m,\u001b[49m\u001b[43m \u001b[49m\u001b[38;5;124;43m\"\u001b[39;49m\u001b[38;5;124;43mcolumns\u001b[39;49m\u001b[38;5;124;43m\"\u001b[39;49m\u001b[43m)\u001b[49m[\u001b[38;5;241m1\u001b[39m]\n\u001b[0;32m   4110\u001b[0m \u001b[38;5;66;03m# take() does not accept boolean indexers\u001b[39;00m\n\u001b[0;32m   4111\u001b[0m \u001b[38;5;28;01mif\u001b[39;00m \u001b[38;5;28mgetattr\u001b[39m(indexer, \u001b[38;5;124m\"\u001b[39m\u001b[38;5;124mdtype\u001b[39m\u001b[38;5;124m\"\u001b[39m, \u001b[38;5;28;01mNone\u001b[39;00m) \u001b[38;5;241m==\u001b[39m \u001b[38;5;28mbool\u001b[39m:\n",
      "File \u001b[1;32mc:\\Users\\shefs\\AppData\\Local\\Programs\\Python\\Python312\\Lib\\site-packages\\pandas\\core\\indexes\\base.py:6200\u001b[0m, in \u001b[0;36mIndex._get_indexer_strict\u001b[1;34m(self, key, axis_name)\u001b[0m\n\u001b[0;32m   6197\u001b[0m \u001b[38;5;28;01melse\u001b[39;00m:\n\u001b[0;32m   6198\u001b[0m     keyarr, indexer, new_indexer \u001b[38;5;241m=\u001b[39m \u001b[38;5;28mself\u001b[39m\u001b[38;5;241m.\u001b[39m_reindex_non_unique(keyarr)\n\u001b[1;32m-> 6200\u001b[0m \u001b[38;5;28;43mself\u001b[39;49m\u001b[38;5;241;43m.\u001b[39;49m\u001b[43m_raise_if_missing\u001b[49m\u001b[43m(\u001b[49m\u001b[43mkeyarr\u001b[49m\u001b[43m,\u001b[49m\u001b[43m \u001b[49m\u001b[43mindexer\u001b[49m\u001b[43m,\u001b[49m\u001b[43m \u001b[49m\u001b[43maxis_name\u001b[49m\u001b[43m)\u001b[49m\n\u001b[0;32m   6202\u001b[0m keyarr \u001b[38;5;241m=\u001b[39m \u001b[38;5;28mself\u001b[39m\u001b[38;5;241m.\u001b[39mtake(indexer)\n\u001b[0;32m   6203\u001b[0m \u001b[38;5;28;01mif\u001b[39;00m \u001b[38;5;28misinstance\u001b[39m(key, Index):\n\u001b[0;32m   6204\u001b[0m     \u001b[38;5;66;03m# GH 42790 - Preserve name from an Index\u001b[39;00m\n",
      "File \u001b[1;32mc:\\Users\\shefs\\AppData\\Local\\Programs\\Python\\Python312\\Lib\\site-packages\\pandas\\core\\indexes\\base.py:6252\u001b[0m, in \u001b[0;36mIndex._raise_if_missing\u001b[1;34m(self, key, indexer, axis_name)\u001b[0m\n\u001b[0;32m   6249\u001b[0m     \u001b[38;5;28;01mraise\u001b[39;00m \u001b[38;5;167;01mKeyError\u001b[39;00m(\u001b[38;5;124mf\u001b[39m\u001b[38;5;124m\"\u001b[39m\u001b[38;5;124mNone of [\u001b[39m\u001b[38;5;132;01m{\u001b[39;00mkey\u001b[38;5;132;01m}\u001b[39;00m\u001b[38;5;124m] are in the [\u001b[39m\u001b[38;5;132;01m{\u001b[39;00maxis_name\u001b[38;5;132;01m}\u001b[39;00m\u001b[38;5;124m]\u001b[39m\u001b[38;5;124m\"\u001b[39m)\n\u001b[0;32m   6251\u001b[0m not_found \u001b[38;5;241m=\u001b[39m \u001b[38;5;28mlist\u001b[39m(ensure_index(key)[missing_mask\u001b[38;5;241m.\u001b[39mnonzero()[\u001b[38;5;241m0\u001b[39m]]\u001b[38;5;241m.\u001b[39munique())\n\u001b[1;32m-> 6252\u001b[0m \u001b[38;5;28;01mraise\u001b[39;00m \u001b[38;5;167;01mKeyError\u001b[39;00m(\u001b[38;5;124mf\u001b[39m\u001b[38;5;124m\"\u001b[39m\u001b[38;5;132;01m{\u001b[39;00mnot_found\u001b[38;5;132;01m}\u001b[39;00m\u001b[38;5;124m not in index\u001b[39m\u001b[38;5;124m\"\u001b[39m)\n",
      "\u001b[1;31mKeyError\u001b[0m: \"['avg_sentiment'] not in index\""
     ]
    }
   ],
   "source": [
    "correlation = merged[['avg_sentiment', 'btc_return']].corr().iloc[0,1]\n",
    "print(f\"Correlation between sentiment and return: {correlation:.4f}\")"
   ]
  }
 ],
 "metadata": {
  "kernelspec": {
   "display_name": "Python 3",
   "language": "python",
   "name": "python3"
  },
  "language_info": {
   "codemirror_mode": {
    "name": "ipython",
    "version": 3
   },
   "file_extension": ".py",
   "mimetype": "text/x-python",
   "name": "python",
   "nbconvert_exporter": "python",
   "pygments_lexer": "ipython3",
   "version": "3.12.6"
  }
 },
 "nbformat": 4,
 "nbformat_minor": 2
}
